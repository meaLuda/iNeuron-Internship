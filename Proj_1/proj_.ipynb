{
 "cells": [
  {
   "cell_type": "markdown",
   "metadata": {},
   "source": [
    "# TITLE"
   ]
  },
  {
   "cell_type": "markdown",
   "metadata": {},
   "source": [
    "## 1. Defining the Question\n",
    "\n",
    "## Thyroid disease is a common cause of medical diagnosis and prediction, with an onset that is difficult to forecast in medical research. The thyroid gland is one of our body's most vital organs. Thyroid hormone releases are responsible for metabolic regulation. Hyperthyroidism and hypothyroidism are one of the two common diseases of the thyroid that releases thyroid hormones in regulating the rate of body's metabolism.\n",
    "\n",
    "# Question:\n",
    "### ```The main goal is to predict the estimated risk on a patient's chance of obtaining thyroid disease or not.```\n"
   ]
  },
  {
   "cell_type": "markdown",
   "metadata": {},
   "source": [
    "## 2) Defining the Metric for Success\n",
    "\n",
    "### \n",
    "### \n",
    "### "
   ]
  },
  {
   "cell_type": "markdown",
   "metadata": {},
   "source": [
    "## 3) Understanding the context "
   ]
  },
  {
   "cell_type": "markdown",
   "metadata": {},
   "source": [
    "# ToolBox\n",
    "\n",
    "<h3>Contains libraries and helper functions.</h3>"
   ]
  },
  {
   "cell_type": "code",
   "execution_count": 2,
   "metadata": {},
   "outputs": [],
   "source": [
    "# Libraries \n",
    "import pandas as pd\n",
    "import matplotlib.pyplot as plt\n",
    "import numpy as np\n",
    "import seaborn as sns; sns.set(font_scale=1.2)\n",
    "\n",
    "%matplotlib inline\n",
    "\n",
    "\n",
    "# Decision Trees and Random Forest\n",
    "from sklearn.ensemble import RandomForestRegressor,RandomForestClassifier\n",
    "from sklearn.tree import DecisionTreeRegressor,DecisionTreeClassifier\n",
    "from sklearn.ensemble import AdaBoostRegressor\n",
    "# Tree visualizations\n",
    "from sklearn.tree import export_graphviz\n",
    "from six import StringIO\n",
    "from IPython.display import Image  \n",
    "import pydotplus\n",
    "\n",
    "# ======================= CLASSIFICATION ===========================\n",
    "# SVM\n",
    "# Import Suport Vector Classifier module from svm library. We'll use SVC to model our data\n",
    "from sklearn.svm import SVC,LinearSVC\n",
    "from sklearn.model_selection import train_test_split\n",
    "# Import scikit-learn metrics module for accuracy calculation\n",
    "from sklearn.svm import SVC\n",
    "from sklearn.decomposition import PCA\n",
    "from sklearn.metrics import accuracy_score\n",
    "from sklearn.metrics import confusion_matrix"
   ]
  },
  {
   "cell_type": "code",
   "execution_count": 3,
   "metadata": {},
   "outputs": [],
   "source": [
    "# feature selector class\n",
    "# ================== UNTESTED CODE ===========================\n",
    "class FeatureSelector:\n",
    "    \"\"\"\n",
    "        Code by :Munyala Eliud\n",
    "\n",
    "        # libraries youll need\n",
    "        import numpy as np\n",
    "        from sklearn.ensemble import RandomForestClassifier\n",
    "        from sklearn import datasets\n",
    "        from sklearn.model_selection import train_test_split\n",
    "        from sklearn.feature_selection import SelectFromModel\n",
    "        from sklearn.metrics import accuracy_score\n",
    "\n",
    "        link to tut: [https://chrisalbon.com/code/machine_learning/trees_and_forests/feature_selection_using_random_forest/]\n",
    "        \n",
    "        # input descriptions\n",
    "        ```\n",
    "        1. data: the data frame you are working on, should be cleaned\n",
    "        2. X_set_columns:features,list of columns for the X \n",
    "        3. split_size: percent you want the data to be split by i.e 0.2,0.3..... default is 0.3\n",
    "        ```\n",
    "\n",
    "    \n",
    "    \"\"\"\n",
    "\n",
    "\n",
    "    def __init__(self,data,X_set_columns,y_set_columns,split_size=0.3):\n",
    "        self.data = data\n",
    "        self.X_set_columns = X_set_columns\n",
    "        self.y_set_columns = y_set_columns\n",
    "        self.split_size = split_size\n",
    "\n",
    "    \n",
    "    def split_data(self):\n",
    "        X = self.data[self.X_set_columns]\n",
    "        y = self.data[self.y_set_columns]\n",
    "\n",
    "        # Split the data into 40% test and 60% training\n",
    "        X_train, X_test, y_train, y_test = train_test_split(X, y, test_size=self.split_size, random_state=0)\n",
    "\n",
    "        return X_train, X_test, y_train, y_test\n",
    "    \n",
    "    def rf_classifier_viewer(self):\n",
    "        \"\"\"\n",
    "            Feature selection using Random Forest\n",
    "            Identify And Select Most Important Features\n",
    "            \n",
    "            ## return feature_list, feature_list_best\n",
    "\n",
    "        \"\"\"\n",
    "        X_train, X_test, y_train, y_test = self.split_data()\n",
    "\n",
    "        # Create a random forest classifier\n",
    "        clf = RandomForestClassifier(n_estimators=10000, random_state=0, n_jobs=-1)\n",
    "\n",
    "        # Train the classifier\n",
    "        clf.fit(X_train, y_train)\n",
    "\n",
    "        feature_list = list()\n",
    "\n",
    "        # Print the name and gini importance of each feature\n",
    "        for feature in zip(self.X_set_columns, clf.feature_importances_):\n",
    "            # print(feature)\n",
    "            feature_list.append(feature)\n",
    "        \n",
    "        # Create a selector object that will use the random forest classifier to identify\n",
    "        # features that have an importance of more than 0.15\n",
    "        sfm = SelectFromModel(clf, threshold=0.15)\n",
    "\n",
    "        # Train the selector\n",
    "        sfm.fit(X_train, y_train)\n",
    "\n",
    "        feature_list_best = list()\n",
    "        # Print the names of the most important features\n",
    "        for feature_list_index in sfm.get_support(indices=True):\n",
    "            # print(self.X_set_columns[feature_list_index])\n",
    "            feature_list_best.append(self.X_set_columns[feature_list_index])\n",
    "\n",
    "        # Apply The Full Featured Classifier To The Test Data\n",
    "        y_pred = clf.predict(X_test)\n",
    "\n",
    "        # View The Accuracy Of Our Full Feature (4 Features) Model\n",
    "        acc_feature_list = accuracy_score(y_test, y_pred)\n",
    "\n",
    "        # Create a new random forest classifier for the most important features\n",
    "        clf_important = RandomForestClassifier(n_estimators=10000, random_state=0, n_jobs=-1)\n",
    "\n",
    "        # Train the new classifier on the new dataset containing the most important features\n",
    "        clf_important.fit(X_test, y_train)\n",
    "\n",
    "\n",
    "        # Apply The Full Featured Classifier To The Test Data\n",
    "        y_important_pred = clf_important.predict(X_test)\n",
    "\n",
    "        # View The Accuracy Of Our Limited Feature (2 Features) Model\n",
    "        acc_feature_best = accuracy_score(y_test, y_important_pred)\n",
    "\n",
    "\n",
    "        predictions = {\n",
    "            \"Accuracy_score_of_list\":acc_feature_list,\n",
    "            \"Accuracy_score_of_best\":acc_feature_best,\n",
    "        }\n",
    "\n",
    "        final = {\n",
    "            \"Features_list\": feature_list,\n",
    "            \"Best features\": feature_list_best,\n",
    "            \"Predictions\": predictions,\n",
    "        }\n",
    "        \n",
    "        # return feature_list, feature_list_best,predictions\n",
    "        return final\n",
    "    "
   ]
  },
  {
   "cell_type": "markdown",
   "metadata": {},
   "source": [
    "# Data Loading."
   ]
  },
  {
   "cell_type": "code",
   "execution_count": 4,
   "metadata": {},
   "outputs": [],
   "source": [
    "# load our data\n",
    "df_hp = pd.read_csv(\"/home/eliud_luda/Desktop/iNeuron_Internship/PROJECTS/Proj_1/data/hypothyroid.csv\")"
   ]
  },
  {
   "cell_type": "markdown",
   "metadata": {},
   "source": [
    "# E.D.A (exploratory Data Analysis)"
   ]
  },
  {
   "cell_type": "markdown",
   "metadata": {},
   "source": [
    "## ```Data Exploration.```"
   ]
  },
  {
   "cell_type": "code",
   "execution_count": 5,
   "metadata": {},
   "outputs": [
    {
     "data": {
      "text/html": [
       "<div>\n",
       "<style scoped>\n",
       "    .dataframe tbody tr th:only-of-type {\n",
       "        vertical-align: middle;\n",
       "    }\n",
       "\n",
       "    .dataframe tbody tr th {\n",
       "        vertical-align: top;\n",
       "    }\n",
       "\n",
       "    .dataframe thead th {\n",
       "        text-align: right;\n",
       "    }\n",
       "</style>\n",
       "<table border=\"1\" class=\"dataframe\">\n",
       "  <thead>\n",
       "    <tr style=\"text-align: right;\">\n",
       "      <th></th>\n",
       "      <th>hypothyroid</th>\n",
       "      <th>72</th>\n",
       "      <th>M</th>\n",
       "      <th>f</th>\n",
       "      <th>f.1</th>\n",
       "      <th>f.2</th>\n",
       "      <th>f.3</th>\n",
       "      <th>f.4</th>\n",
       "      <th>f.5</th>\n",
       "      <th>f.6</th>\n",
       "      <th>...</th>\n",
       "      <th>y.1</th>\n",
       "      <th>0.60</th>\n",
       "      <th>y.2</th>\n",
       "      <th>15</th>\n",
       "      <th>y.3</th>\n",
       "      <th>1.48</th>\n",
       "      <th>y.4</th>\n",
       "      <th>10</th>\n",
       "      <th>n</th>\n",
       "      <th>?</th>\n",
       "    </tr>\n",
       "  </thead>\n",
       "  <tbody>\n",
       "    <tr>\n",
       "      <th>0</th>\n",
       "      <td>hypothyroid</td>\n",
       "      <td>15</td>\n",
       "      <td>F</td>\n",
       "      <td>t</td>\n",
       "      <td>f</td>\n",
       "      <td>f</td>\n",
       "      <td>f</td>\n",
       "      <td>f</td>\n",
       "      <td>f</td>\n",
       "      <td>f</td>\n",
       "      <td>...</td>\n",
       "      <td>y</td>\n",
       "      <td>1.70</td>\n",
       "      <td>y</td>\n",
       "      <td>19</td>\n",
       "      <td>y</td>\n",
       "      <td>1.13</td>\n",
       "      <td>y</td>\n",
       "      <td>17</td>\n",
       "      <td>n</td>\n",
       "      <td>?</td>\n",
       "    </tr>\n",
       "    <tr>\n",
       "      <th>1</th>\n",
       "      <td>hypothyroid</td>\n",
       "      <td>24</td>\n",
       "      <td>M</td>\n",
       "      <td>f</td>\n",
       "      <td>f</td>\n",
       "      <td>f</td>\n",
       "      <td>f</td>\n",
       "      <td>f</td>\n",
       "      <td>f</td>\n",
       "      <td>f</td>\n",
       "      <td>...</td>\n",
       "      <td>y</td>\n",
       "      <td>0.20</td>\n",
       "      <td>y</td>\n",
       "      <td>4</td>\n",
       "      <td>y</td>\n",
       "      <td>1</td>\n",
       "      <td>y</td>\n",
       "      <td>0</td>\n",
       "      <td>n</td>\n",
       "      <td>?</td>\n",
       "    </tr>\n",
       "    <tr>\n",
       "      <th>2</th>\n",
       "      <td>hypothyroid</td>\n",
       "      <td>24</td>\n",
       "      <td>F</td>\n",
       "      <td>f</td>\n",
       "      <td>f</td>\n",
       "      <td>f</td>\n",
       "      <td>f</td>\n",
       "      <td>f</td>\n",
       "      <td>f</td>\n",
       "      <td>f</td>\n",
       "      <td>...</td>\n",
       "      <td>y</td>\n",
       "      <td>0.40</td>\n",
       "      <td>y</td>\n",
       "      <td>6</td>\n",
       "      <td>y</td>\n",
       "      <td>1.04</td>\n",
       "      <td>y</td>\n",
       "      <td>6</td>\n",
       "      <td>n</td>\n",
       "      <td>?</td>\n",
       "    </tr>\n",
       "    <tr>\n",
       "      <th>3</th>\n",
       "      <td>hypothyroid</td>\n",
       "      <td>77</td>\n",
       "      <td>M</td>\n",
       "      <td>f</td>\n",
       "      <td>f</td>\n",
       "      <td>f</td>\n",
       "      <td>f</td>\n",
       "      <td>f</td>\n",
       "      <td>f</td>\n",
       "      <td>f</td>\n",
       "      <td>...</td>\n",
       "      <td>y</td>\n",
       "      <td>1.20</td>\n",
       "      <td>y</td>\n",
       "      <td>57</td>\n",
       "      <td>y</td>\n",
       "      <td>1.28</td>\n",
       "      <td>y</td>\n",
       "      <td>44</td>\n",
       "      <td>n</td>\n",
       "      <td>?</td>\n",
       "    </tr>\n",
       "    <tr>\n",
       "      <th>4</th>\n",
       "      <td>hypothyroid</td>\n",
       "      <td>85</td>\n",
       "      <td>F</td>\n",
       "      <td>f</td>\n",
       "      <td>f</td>\n",
       "      <td>f</td>\n",
       "      <td>f</td>\n",
       "      <td>t</td>\n",
       "      <td>f</td>\n",
       "      <td>f</td>\n",
       "      <td>...</td>\n",
       "      <td>y</td>\n",
       "      <td>1.10</td>\n",
       "      <td>y</td>\n",
       "      <td>27</td>\n",
       "      <td>y</td>\n",
       "      <td>1.19</td>\n",
       "      <td>y</td>\n",
       "      <td>23</td>\n",
       "      <td>n</td>\n",
       "      <td>?</td>\n",
       "    </tr>\n",
       "  </tbody>\n",
       "</table>\n",
       "<p>5 rows × 26 columns</p>\n",
       "</div>"
      ],
      "text/plain": [
       "   hypothyroid  72  M  f f.1 f.2 f.3 f.4 f.5 f.6  ... y.1  0.60 y.2  15 y.3  \\\n",
       "0  hypothyroid  15  F  t   f   f   f   f   f   f  ...   y  1.70   y  19   y   \n",
       "1  hypothyroid  24  M  f   f   f   f   f   f   f  ...   y  0.20   y   4   y   \n",
       "2  hypothyroid  24  F  f   f   f   f   f   f   f  ...   y  0.40   y   6   y   \n",
       "3  hypothyroid  77  M  f   f   f   f   f   f   f  ...   y  1.20   y  57   y   \n",
       "4  hypothyroid  85  F  f   f   f   f   t   f   f  ...   y  1.10   y  27   y   \n",
       "\n",
       "   1.48 y.4  10  n  ?  \n",
       "0  1.13   y  17  n  ?  \n",
       "1     1   y   0  n  ?  \n",
       "2  1.04   y   6  n  ?  \n",
       "3  1.28   y  44  n  ?  \n",
       "4  1.19   y  23  n  ?  \n",
       "\n",
       "[5 rows x 26 columns]"
      ]
     },
     "execution_count": 5,
     "metadata": {},
     "output_type": "execute_result"
    }
   ],
   "source": [
    "# check first 5 values of our data\n",
    "df_hp.head()"
   ]
  },
  {
   "cell_type": "code",
   "execution_count": 6,
   "metadata": {},
   "outputs": [
    {
     "data": {
      "text/html": [
       "<div>\n",
       "<style scoped>\n",
       "    .dataframe tbody tr th:only-of-type {\n",
       "        vertical-align: middle;\n",
       "    }\n",
       "\n",
       "    .dataframe tbody tr th {\n",
       "        vertical-align: top;\n",
       "    }\n",
       "\n",
       "    .dataframe thead th {\n",
       "        text-align: right;\n",
       "    }\n",
       "</style>\n",
       "<table border=\"1\" class=\"dataframe\">\n",
       "  <thead>\n",
       "    <tr style=\"text-align: right;\">\n",
       "      <th></th>\n",
       "      <th>hypothyroid</th>\n",
       "      <th>72</th>\n",
       "      <th>M</th>\n",
       "      <th>f</th>\n",
       "      <th>f.1</th>\n",
       "      <th>f.2</th>\n",
       "      <th>f.3</th>\n",
       "      <th>f.4</th>\n",
       "      <th>f.5</th>\n",
       "      <th>f.6</th>\n",
       "      <th>...</th>\n",
       "      <th>y.1</th>\n",
       "      <th>0.60</th>\n",
       "      <th>y.2</th>\n",
       "      <th>15</th>\n",
       "      <th>y.3</th>\n",
       "      <th>1.48</th>\n",
       "      <th>y.4</th>\n",
       "      <th>10</th>\n",
       "      <th>n</th>\n",
       "      <th>?</th>\n",
       "    </tr>\n",
       "  </thead>\n",
       "  <tbody>\n",
       "    <tr>\n",
       "      <th>3157</th>\n",
       "      <td>negative</td>\n",
       "      <td>58</td>\n",
       "      <td>F</td>\n",
       "      <td>f</td>\n",
       "      <td>f</td>\n",
       "      <td>f</td>\n",
       "      <td>f</td>\n",
       "      <td>f</td>\n",
       "      <td>f</td>\n",
       "      <td>f</td>\n",
       "      <td>...</td>\n",
       "      <td>y</td>\n",
       "      <td>1.70</td>\n",
       "      <td>y</td>\n",
       "      <td>86</td>\n",
       "      <td>y</td>\n",
       "      <td>0.91</td>\n",
       "      <td>y</td>\n",
       "      <td>95</td>\n",
       "      <td>n</td>\n",
       "      <td>?</td>\n",
       "    </tr>\n",
       "    <tr>\n",
       "      <th>3158</th>\n",
       "      <td>negative</td>\n",
       "      <td>29</td>\n",
       "      <td>F</td>\n",
       "      <td>f</td>\n",
       "      <td>f</td>\n",
       "      <td>f</td>\n",
       "      <td>f</td>\n",
       "      <td>f</td>\n",
       "      <td>f</td>\n",
       "      <td>f</td>\n",
       "      <td>...</td>\n",
       "      <td>y</td>\n",
       "      <td>1.80</td>\n",
       "      <td>y</td>\n",
       "      <td>99</td>\n",
       "      <td>y</td>\n",
       "      <td>1.01</td>\n",
       "      <td>y</td>\n",
       "      <td>98</td>\n",
       "      <td>n</td>\n",
       "      <td>?</td>\n",
       "    </tr>\n",
       "    <tr>\n",
       "      <th>3159</th>\n",
       "      <td>negative</td>\n",
       "      <td>77</td>\n",
       "      <td>M</td>\n",
       "      <td>f</td>\n",
       "      <td>f</td>\n",
       "      <td>f</td>\n",
       "      <td>f</td>\n",
       "      <td>f</td>\n",
       "      <td>f</td>\n",
       "      <td>f</td>\n",
       "      <td>...</td>\n",
       "      <td>y</td>\n",
       "      <td>0.60</td>\n",
       "      <td>y</td>\n",
       "      <td>71</td>\n",
       "      <td>y</td>\n",
       "      <td>0.68</td>\n",
       "      <td>y</td>\n",
       "      <td>104</td>\n",
       "      <td>n</td>\n",
       "      <td>?</td>\n",
       "    </tr>\n",
       "    <tr>\n",
       "      <th>3160</th>\n",
       "      <td>negative</td>\n",
       "      <td>74</td>\n",
       "      <td>F</td>\n",
       "      <td>f</td>\n",
       "      <td>f</td>\n",
       "      <td>f</td>\n",
       "      <td>f</td>\n",
       "      <td>f</td>\n",
       "      <td>f</td>\n",
       "      <td>f</td>\n",
       "      <td>...</td>\n",
       "      <td>y</td>\n",
       "      <td>0.10</td>\n",
       "      <td>y</td>\n",
       "      <td>65</td>\n",
       "      <td>y</td>\n",
       "      <td>0.48</td>\n",
       "      <td>y</td>\n",
       "      <td>137</td>\n",
       "      <td>n</td>\n",
       "      <td>?</td>\n",
       "    </tr>\n",
       "    <tr>\n",
       "      <th>3161</th>\n",
       "      <td>negative</td>\n",
       "      <td>56</td>\n",
       "      <td>F</td>\n",
       "      <td>t</td>\n",
       "      <td>f</td>\n",
       "      <td>f</td>\n",
       "      <td>f</td>\n",
       "      <td>f</td>\n",
       "      <td>f</td>\n",
       "      <td>f</td>\n",
       "      <td>...</td>\n",
       "      <td>y</td>\n",
       "      <td>1.80</td>\n",
       "      <td>y</td>\n",
       "      <td>139</td>\n",
       "      <td>y</td>\n",
       "      <td>0.97</td>\n",
       "      <td>y</td>\n",
       "      <td>143</td>\n",
       "      <td>n</td>\n",
       "      <td>?</td>\n",
       "    </tr>\n",
       "  </tbody>\n",
       "</table>\n",
       "<p>5 rows × 26 columns</p>\n",
       "</div>"
      ],
      "text/plain": [
       "     hypothyroid  72  M  f f.1 f.2 f.3 f.4 f.5 f.6  ... y.1  0.60 y.2   15  \\\n",
       "3157    negative  58  F  f   f   f   f   f   f   f  ...   y  1.70   y   86   \n",
       "3158    negative  29  F  f   f   f   f   f   f   f  ...   y  1.80   y   99   \n",
       "3159    negative  77  M  f   f   f   f   f   f   f  ...   y  0.60   y   71   \n",
       "3160    negative  74  F  f   f   f   f   f   f   f  ...   y  0.10   y   65   \n",
       "3161    negative  56  F  t   f   f   f   f   f   f  ...   y  1.80   y  139   \n",
       "\n",
       "     y.3  1.48 y.4   10  n  ?  \n",
       "3157   y  0.91   y   95  n  ?  \n",
       "3158   y  1.01   y   98  n  ?  \n",
       "3159   y  0.68   y  104  n  ?  \n",
       "3160   y  0.48   y  137  n  ?  \n",
       "3161   y  0.97   y  143  n  ?  \n",
       "\n",
       "[5 rows x 26 columns]"
      ]
     },
     "execution_count": 6,
     "metadata": {},
     "output_type": "execute_result"
    }
   ],
   "source": [
    "# check last 5 values in our data\n",
    "df_hp.tail()"
   ]
  },
  {
   "cell_type": "code",
   "execution_count": 7,
   "metadata": {},
   "outputs": [
    {
     "data": {
      "text/plain": [
       "(3162, 26)"
      ]
     },
     "execution_count": 7,
     "metadata": {},
     "output_type": "execute_result"
    }
   ],
   "source": [
    "# check shape of our data\n",
    "df_hp.shape"
   ]
  },
  {
   "cell_type": "code",
   "execution_count": 8,
   "metadata": {},
   "outputs": [
    {
     "data": {
      "text/plain": [
       "hypothyroid    object\n",
       "72             object\n",
       "M              object\n",
       "f              object\n",
       "f.1            object\n",
       "f.2            object\n",
       "f.3            object\n",
       "f.4            object\n",
       "f.5            object\n",
       "f.6            object\n",
       "f.7            object\n",
       "f.8            object\n",
       "f.9            object\n",
       "f.10           object\n",
       "y              object\n",
       "30             object\n",
       "y.1            object\n",
       "0.60           object\n",
       "y.2            object\n",
       "15             object\n",
       "y.3            object\n",
       "1.48           object\n",
       "y.4            object\n",
       "10             object\n",
       "n              object\n",
       "?              object\n",
       "dtype: object"
      ]
     },
     "execution_count": 8,
     "metadata": {},
     "output_type": "execute_result"
    }
   ],
   "source": [
    "# check data types\n",
    "df_hp.dtypes"
   ]
  },
  {
   "cell_type": "code",
   "execution_count": 9,
   "metadata": {},
   "outputs": [
    {
     "name": "stdout",
     "output_type": "stream",
     "text": [
      "<class 'pandas.core.frame.DataFrame'>\n",
      "RangeIndex: 3162 entries, 0 to 3161\n",
      "Data columns (total 26 columns):\n",
      " #   Column       Non-Null Count  Dtype \n",
      "---  ------       --------------  ----- \n",
      " 0   hypothyroid  3162 non-null   object\n",
      " 1   72           3162 non-null   object\n",
      " 2   M            3162 non-null   object\n",
      " 3   f            3162 non-null   object\n",
      " 4   f.1          3162 non-null   object\n",
      " 5   f.2          3162 non-null   object\n",
      " 6   f.3          3162 non-null   object\n",
      " 7   f.4          3162 non-null   object\n",
      " 8   f.5          3162 non-null   object\n",
      " 9   f.6          3162 non-null   object\n",
      " 10  f.7          3162 non-null   object\n",
      " 11  f.8          3162 non-null   object\n",
      " 12  f.9          3162 non-null   object\n",
      " 13  f.10         3162 non-null   object\n",
      " 14  y            3162 non-null   object\n",
      " 15  30           3162 non-null   object\n",
      " 16  y.1          3162 non-null   object\n",
      " 17  0.60         3162 non-null   object\n",
      " 18  y.2          3162 non-null   object\n",
      " 19  15           3162 non-null   object\n",
      " 20  y.3          3162 non-null   object\n",
      " 21  1.48         3162 non-null   object\n",
      " 22  y.4          3162 non-null   object\n",
      " 23  10           3162 non-null   object\n",
      " 24  n            3162 non-null   object\n",
      " 25  ?            3162 non-null   object\n",
      "dtypes: object(26)\n",
      "memory usage: 642.4+ KB\n"
     ]
    }
   ],
   "source": [
    "# check info about our data\n",
    "df_hp.info()"
   ]
  },
  {
   "cell_type": "markdown",
   "metadata": {},
   "source": [
    "## ```Data Cleaning```\n",
    "\n",
    "## ======= Observations for cleanining operations =========\n",
    "1. We have no missing data / replaced by '?'\n",
    "2. Most of our data is categorical not numerical.\n",
    "3. Columns have to be renamed as per the hypothyroid names files\n",
    "4. Our data contains '?' that might be a place holder for NULL values.\n",
    "5. \n",
    "\n",
    "## ======= cleanining operations =========\n",
    "1. Columns need to be renamed\n",
    "2. replace '?' with either mean or mode\n",
    "3. "
   ]
  },
  {
   "cell_type": "code",
   "execution_count": 10,
   "metadata": {},
   "outputs": [],
   "source": [
    "# rename columns\n",
    "df_hp.rename(\n",
    "    columns=({ \n",
    "    '72':'age',\n",
    "    'M':'sex',\n",
    "    'f':'on_thyroxine',\n",
    "    'f.1':'query_on_thyroxine',\n",
    "    'f.2':'on_antithyroid_medication',\n",
    "    'f.3':'thyroid_surgery',\n",
    "    'f.4':'query_hypothyroid',\n",
    "    'f.5':'query_hyperthyroid',\n",
    "    'f.6':'pregnant',\n",
    "    'f.7':'sick',\n",
    "    'f.8':'tumor',\n",
    "    'f.9':'lithium',\n",
    "    'f.10':'goitre',\n",
    "    'y':'TSH_measured',\n",
    "    '30':'TSH',\n",
    "    'y.1':'T3_measured',\n",
    "    '0.60':'T3',\n",
    "    'y.2':'TT4_measured',\n",
    "    '15':'TT4',\n",
    "    'y.3':'T4U_measured',\n",
    "    '1.48':'T4U',\n",
    "    'y.4':'FTI_measured',\n",
    "    '10':'FTI',\n",
    "    'n':'TBG_measured',\n",
    "    '?':'TBG'\n",
    "    }), \n",
    "    inplace=True,\n",
    ")"
   ]
  },
  {
   "cell_type": "code",
   "execution_count": 11,
   "metadata": {},
   "outputs": [
    {
     "data": {
      "text/html": [
       "<div>\n",
       "<style scoped>\n",
       "    .dataframe tbody tr th:only-of-type {\n",
       "        vertical-align: middle;\n",
       "    }\n",
       "\n",
       "    .dataframe tbody tr th {\n",
       "        vertical-align: top;\n",
       "    }\n",
       "\n",
       "    .dataframe thead th {\n",
       "        text-align: right;\n",
       "    }\n",
       "</style>\n",
       "<table border=\"1\" class=\"dataframe\">\n",
       "  <thead>\n",
       "    <tr style=\"text-align: right;\">\n",
       "      <th></th>\n",
       "      <th>hypothyroid</th>\n",
       "      <th>age</th>\n",
       "      <th>sex</th>\n",
       "      <th>on_thyroxine</th>\n",
       "      <th>query_on_thyroxine</th>\n",
       "      <th>on_antithyroid_medication</th>\n",
       "      <th>thyroid_surgery</th>\n",
       "      <th>query_hypothyroid</th>\n",
       "      <th>query_hyperthyroid</th>\n",
       "      <th>pregnant</th>\n",
       "      <th>...</th>\n",
       "      <th>T3_measured</th>\n",
       "      <th>T3</th>\n",
       "      <th>TT4_measured</th>\n",
       "      <th>TT4</th>\n",
       "      <th>T4U_measured</th>\n",
       "      <th>T4U</th>\n",
       "      <th>FTI_measured</th>\n",
       "      <th>FTI</th>\n",
       "      <th>TBG_measured</th>\n",
       "      <th>TBG</th>\n",
       "    </tr>\n",
       "  </thead>\n",
       "  <tbody>\n",
       "    <tr>\n",
       "      <th>0</th>\n",
       "      <td>hypothyroid</td>\n",
       "      <td>15</td>\n",
       "      <td>F</td>\n",
       "      <td>t</td>\n",
       "      <td>f</td>\n",
       "      <td>f</td>\n",
       "      <td>f</td>\n",
       "      <td>f</td>\n",
       "      <td>f</td>\n",
       "      <td>f</td>\n",
       "      <td>...</td>\n",
       "      <td>y</td>\n",
       "      <td>1.70</td>\n",
       "      <td>y</td>\n",
       "      <td>19</td>\n",
       "      <td>y</td>\n",
       "      <td>1.13</td>\n",
       "      <td>y</td>\n",
       "      <td>17</td>\n",
       "      <td>n</td>\n",
       "      <td>?</td>\n",
       "    </tr>\n",
       "  </tbody>\n",
       "</table>\n",
       "<p>1 rows × 26 columns</p>\n",
       "</div>"
      ],
      "text/plain": [
       "   hypothyroid age sex on_thyroxine query_on_thyroxine  \\\n",
       "0  hypothyroid  15   F            t                  f   \n",
       "\n",
       "  on_antithyroid_medication thyroid_surgery query_hypothyroid  \\\n",
       "0                         f               f                 f   \n",
       "\n",
       "  query_hyperthyroid pregnant  ... T3_measured    T3 TT4_measured TT4  \\\n",
       "0                  f        f  ...           y  1.70            y  19   \n",
       "\n",
       "  T4U_measured   T4U FTI_measured FTI TBG_measured TBG  \n",
       "0            y  1.13            y  17            n   ?  \n",
       "\n",
       "[1 rows x 26 columns]"
      ]
     },
     "execution_count": 11,
     "metadata": {},
     "output_type": "execute_result"
    }
   ],
   "source": [
    "df_hp.head(1) # confirm change to columns"
   ]
  },
  {
   "cell_type": "code",
   "execution_count": 12,
   "metadata": {},
   "outputs": [],
   "source": [
    "# Since our data has \"?\" to represent missing values\n",
    "# we shall replace them with numpy null values \n",
    "# then later on drop those values from our data sets\n",
    "# new_cpy = main_data.copy()\n",
    "\n",
    "for (columnName, columnData) in df_hp.iteritems():\n",
    "  df_hp[columnName] = df_hp[columnName].replace(['?'], np.NAN)"
   ]
  },
  {
   "cell_type": "code",
   "execution_count": 13,
   "metadata": {},
   "outputs": [],
   "source": [
    "# From what we have seen above that we now have \n",
    "# null values let us do some preprocessing tasks\n",
    "# like mean median or mean of null values\n",
    "# drop first columns that have more tha "
   ]
  },
  {
   "cell_type": "code",
   "execution_count": 14,
   "metadata": {},
   "outputs": [
    {
     "name": "stdout",
     "output_type": "stream",
     "text": [
      "hypothyroid : 2\n",
      "age : 93\n",
      "sex : 3\n",
      "on_thyroxine : 2\n",
      "query_on_thyroxine : 2\n",
      "on_antithyroid_medication : 2\n",
      "thyroid_surgery : 2\n",
      "query_hypothyroid : 2\n",
      "query_hyperthyroid : 2\n",
      "pregnant : 2\n",
      "sick : 2\n",
      "tumor : 2\n",
      "lithium : 2\n",
      "goitre : 2\n",
      "TSH_measured : 2\n",
      "TSH : 240\n",
      "T3_measured : 2\n",
      "T3 : 70\n",
      "TT4_measured : 2\n",
      "TT4 : 269\n",
      "T4U_measured : 2\n",
      "T4U : 159\n",
      "FTI_measured : 2\n",
      "FTI : 281\n",
      "TBG_measured : 2\n",
      "TBG : 53\n"
     ]
    }
   ],
   "source": [
    "# Count number of unique values on each columns.\n",
    "# main_data.nunique(axis = 0)\n",
    "\n",
    "# unique values in each columns\n",
    "for x in df_hp.columns:\n",
    "    #prinfting unique values\n",
    "    print(x ,':', len(df_hp[x].unique()))"
   ]
  },
  {
   "cell_type": "code",
   "execution_count": 15,
   "metadata": {},
   "outputs": [
    {
     "data": {
      "text/html": [
       "<div>\n",
       "<style scoped>\n",
       "    .dataframe tbody tr th:only-of-type {\n",
       "        vertical-align: middle;\n",
       "    }\n",
       "\n",
       "    .dataframe tbody tr th {\n",
       "        vertical-align: top;\n",
       "    }\n",
       "\n",
       "    .dataframe thead th {\n",
       "        text-align: right;\n",
       "    }\n",
       "</style>\n",
       "<table border=\"1\" class=\"dataframe\">\n",
       "  <thead>\n",
       "    <tr style=\"text-align: right;\">\n",
       "      <th></th>\n",
       "      <th>hypothyroid</th>\n",
       "      <th>age</th>\n",
       "      <th>sex</th>\n",
       "      <th>on_thyroxine</th>\n",
       "      <th>query_on_thyroxine</th>\n",
       "      <th>on_antithyroid_medication</th>\n",
       "      <th>thyroid_surgery</th>\n",
       "      <th>query_hypothyroid</th>\n",
       "      <th>query_hyperthyroid</th>\n",
       "      <th>pregnant</th>\n",
       "      <th>...</th>\n",
       "      <th>T3_measured</th>\n",
       "      <th>T3</th>\n",
       "      <th>TT4_measured</th>\n",
       "      <th>TT4</th>\n",
       "      <th>T4U_measured</th>\n",
       "      <th>T4U</th>\n",
       "      <th>FTI_measured</th>\n",
       "      <th>FTI</th>\n",
       "      <th>TBG_measured</th>\n",
       "      <th>TBG</th>\n",
       "    </tr>\n",
       "  </thead>\n",
       "  <tbody>\n",
       "    <tr>\n",
       "      <th>0</th>\n",
       "      <td>hypothyroid</td>\n",
       "      <td>15</td>\n",
       "      <td>F</td>\n",
       "      <td>t</td>\n",
       "      <td>f</td>\n",
       "      <td>f</td>\n",
       "      <td>f</td>\n",
       "      <td>f</td>\n",
       "      <td>f</td>\n",
       "      <td>f</td>\n",
       "      <td>...</td>\n",
       "      <td>y</td>\n",
       "      <td>1.70</td>\n",
       "      <td>y</td>\n",
       "      <td>19</td>\n",
       "      <td>y</td>\n",
       "      <td>1.13</td>\n",
       "      <td>y</td>\n",
       "      <td>17</td>\n",
       "      <td>n</td>\n",
       "      <td>NaN</td>\n",
       "    </tr>\n",
       "    <tr>\n",
       "      <th>1</th>\n",
       "      <td>hypothyroid</td>\n",
       "      <td>24</td>\n",
       "      <td>M</td>\n",
       "      <td>f</td>\n",
       "      <td>f</td>\n",
       "      <td>f</td>\n",
       "      <td>f</td>\n",
       "      <td>f</td>\n",
       "      <td>f</td>\n",
       "      <td>f</td>\n",
       "      <td>...</td>\n",
       "      <td>y</td>\n",
       "      <td>0.20</td>\n",
       "      <td>y</td>\n",
       "      <td>4</td>\n",
       "      <td>y</td>\n",
       "      <td>1</td>\n",
       "      <td>y</td>\n",
       "      <td>0</td>\n",
       "      <td>n</td>\n",
       "      <td>NaN</td>\n",
       "    </tr>\n",
       "    <tr>\n",
       "      <th>2</th>\n",
       "      <td>hypothyroid</td>\n",
       "      <td>24</td>\n",
       "      <td>F</td>\n",
       "      <td>f</td>\n",
       "      <td>f</td>\n",
       "      <td>f</td>\n",
       "      <td>f</td>\n",
       "      <td>f</td>\n",
       "      <td>f</td>\n",
       "      <td>f</td>\n",
       "      <td>...</td>\n",
       "      <td>y</td>\n",
       "      <td>0.40</td>\n",
       "      <td>y</td>\n",
       "      <td>6</td>\n",
       "      <td>y</td>\n",
       "      <td>1.04</td>\n",
       "      <td>y</td>\n",
       "      <td>6</td>\n",
       "      <td>n</td>\n",
       "      <td>NaN</td>\n",
       "    </tr>\n",
       "    <tr>\n",
       "      <th>3</th>\n",
       "      <td>hypothyroid</td>\n",
       "      <td>77</td>\n",
       "      <td>M</td>\n",
       "      <td>f</td>\n",
       "      <td>f</td>\n",
       "      <td>f</td>\n",
       "      <td>f</td>\n",
       "      <td>f</td>\n",
       "      <td>f</td>\n",
       "      <td>f</td>\n",
       "      <td>...</td>\n",
       "      <td>y</td>\n",
       "      <td>1.20</td>\n",
       "      <td>y</td>\n",
       "      <td>57</td>\n",
       "      <td>y</td>\n",
       "      <td>1.28</td>\n",
       "      <td>y</td>\n",
       "      <td>44</td>\n",
       "      <td>n</td>\n",
       "      <td>NaN</td>\n",
       "    </tr>\n",
       "    <tr>\n",
       "      <th>4</th>\n",
       "      <td>hypothyroid</td>\n",
       "      <td>85</td>\n",
       "      <td>F</td>\n",
       "      <td>f</td>\n",
       "      <td>f</td>\n",
       "      <td>f</td>\n",
       "      <td>f</td>\n",
       "      <td>t</td>\n",
       "      <td>f</td>\n",
       "      <td>f</td>\n",
       "      <td>...</td>\n",
       "      <td>y</td>\n",
       "      <td>1.10</td>\n",
       "      <td>y</td>\n",
       "      <td>27</td>\n",
       "      <td>y</td>\n",
       "      <td>1.19</td>\n",
       "      <td>y</td>\n",
       "      <td>23</td>\n",
       "      <td>n</td>\n",
       "      <td>NaN</td>\n",
       "    </tr>\n",
       "  </tbody>\n",
       "</table>\n",
       "<p>5 rows × 26 columns</p>\n",
       "</div>"
      ],
      "text/plain": [
       "   hypothyroid age sex on_thyroxine query_on_thyroxine  \\\n",
       "0  hypothyroid  15   F            t                  f   \n",
       "1  hypothyroid  24   M            f                  f   \n",
       "2  hypothyroid  24   F            f                  f   \n",
       "3  hypothyroid  77   M            f                  f   \n",
       "4  hypothyroid  85   F            f                  f   \n",
       "\n",
       "  on_antithyroid_medication thyroid_surgery query_hypothyroid  \\\n",
       "0                         f               f                 f   \n",
       "1                         f               f                 f   \n",
       "2                         f               f                 f   \n",
       "3                         f               f                 f   \n",
       "4                         f               f                 t   \n",
       "\n",
       "  query_hyperthyroid pregnant  ... T3_measured    T3 TT4_measured TT4  \\\n",
       "0                  f        f  ...           y  1.70            y  19   \n",
       "1                  f        f  ...           y  0.20            y   4   \n",
       "2                  f        f  ...           y  0.40            y   6   \n",
       "3                  f        f  ...           y  1.20            y  57   \n",
       "4                  f        f  ...           y  1.10            y  27   \n",
       "\n",
       "  T4U_measured   T4U FTI_measured FTI TBG_measured  TBG  \n",
       "0            y  1.13            y  17            n  NaN  \n",
       "1            y     1            y   0            n  NaN  \n",
       "2            y  1.04            y   6            n  NaN  \n",
       "3            y  1.28            y  44            n  NaN  \n",
       "4            y  1.19            y  23            n  NaN  \n",
       "\n",
       "[5 rows x 26 columns]"
      ]
     },
     "execution_count": 15,
     "metadata": {},
     "output_type": "execute_result"
    }
   ],
   "source": [
    "df_hp.head()"
   ]
  },
  {
   "cell_type": "markdown",
   "metadata": {},
   "source": [
    "## Encoding Data "
   ]
  },
  {
   "cell_type": "code",
   "execution_count": 16,
   "metadata": {},
   "outputs": [],
   "source": [
    "# columns we want to label enconde:\n",
    "cls_to_lbl = [\n",
    " 'sex',\n",
    " 'on_thyroxine',\n",
    " 'query_on_thyroxine',\n",
    " 'on_antithyroid_medication',\n",
    " 'thyroid_surgery',\n",
    " 'query_hypothyroid',\n",
    " 'query_hyperthyroid',\n",
    " 'pregnant',\n",
    " 'sick',\n",
    " 'tumor',\n",
    " 'lithium',\n",
    " 'goitre',\n",
    " 'TSH_measured',\n",
    " 'T3_measured',\n",
    " 'TT4_measured',\n",
    " 'T4U_measured',\n",
    " 'FTI_measured',\n",
    " 'TBG_measured',\n",
    "]\n",
    "\n",
    "df_hp = pd.get_dummies(df_hp, columns=cls_to_lbl, drop_first=True)"
   ]
  },
  {
   "cell_type": "code",
   "execution_count": 17,
   "metadata": {},
   "outputs": [
    {
     "data": {
      "text/html": [
       "<div>\n",
       "<style scoped>\n",
       "    .dataframe tbody tr th:only-of-type {\n",
       "        vertical-align: middle;\n",
       "    }\n",
       "\n",
       "    .dataframe tbody tr th {\n",
       "        vertical-align: top;\n",
       "    }\n",
       "\n",
       "    .dataframe thead th {\n",
       "        text-align: right;\n",
       "    }\n",
       "</style>\n",
       "<table border=\"1\" class=\"dataframe\">\n",
       "  <thead>\n",
       "    <tr style=\"text-align: right;\">\n",
       "      <th></th>\n",
       "      <th>hypothyroid</th>\n",
       "      <th>age</th>\n",
       "      <th>TSH</th>\n",
       "      <th>T3</th>\n",
       "      <th>TT4</th>\n",
       "      <th>T4U</th>\n",
       "      <th>FTI</th>\n",
       "      <th>TBG</th>\n",
       "      <th>sex_M</th>\n",
       "      <th>on_thyroxine_t</th>\n",
       "      <th>...</th>\n",
       "      <th>sick_t</th>\n",
       "      <th>tumor_t</th>\n",
       "      <th>lithium_t</th>\n",
       "      <th>goitre_t</th>\n",
       "      <th>TSH_measured_y</th>\n",
       "      <th>T3_measured_y</th>\n",
       "      <th>TT4_measured_y</th>\n",
       "      <th>T4U_measured_y</th>\n",
       "      <th>FTI_measured_y</th>\n",
       "      <th>TBG_measured_y</th>\n",
       "    </tr>\n",
       "  </thead>\n",
       "  <tbody>\n",
       "    <tr>\n",
       "      <th>0</th>\n",
       "      <td>hypothyroid</td>\n",
       "      <td>15</td>\n",
       "      <td>145</td>\n",
       "      <td>1.70</td>\n",
       "      <td>19</td>\n",
       "      <td>1.13</td>\n",
       "      <td>17</td>\n",
       "      <td>NaN</td>\n",
       "      <td>0</td>\n",
       "      <td>1</td>\n",
       "      <td>...</td>\n",
       "      <td>0</td>\n",
       "      <td>0</td>\n",
       "      <td>0</td>\n",
       "      <td>0</td>\n",
       "      <td>1</td>\n",
       "      <td>1</td>\n",
       "      <td>1</td>\n",
       "      <td>1</td>\n",
       "      <td>1</td>\n",
       "      <td>0</td>\n",
       "    </tr>\n",
       "    <tr>\n",
       "      <th>1</th>\n",
       "      <td>hypothyroid</td>\n",
       "      <td>24</td>\n",
       "      <td>0</td>\n",
       "      <td>0.20</td>\n",
       "      <td>4</td>\n",
       "      <td>1</td>\n",
       "      <td>0</td>\n",
       "      <td>NaN</td>\n",
       "      <td>1</td>\n",
       "      <td>0</td>\n",
       "      <td>...</td>\n",
       "      <td>0</td>\n",
       "      <td>0</td>\n",
       "      <td>0</td>\n",
       "      <td>0</td>\n",
       "      <td>1</td>\n",
       "      <td>1</td>\n",
       "      <td>1</td>\n",
       "      <td>1</td>\n",
       "      <td>1</td>\n",
       "      <td>0</td>\n",
       "    </tr>\n",
       "    <tr>\n",
       "      <th>2</th>\n",
       "      <td>hypothyroid</td>\n",
       "      <td>24</td>\n",
       "      <td>430</td>\n",
       "      <td>0.40</td>\n",
       "      <td>6</td>\n",
       "      <td>1.04</td>\n",
       "      <td>6</td>\n",
       "      <td>NaN</td>\n",
       "      <td>0</td>\n",
       "      <td>0</td>\n",
       "      <td>...</td>\n",
       "      <td>0</td>\n",
       "      <td>0</td>\n",
       "      <td>0</td>\n",
       "      <td>0</td>\n",
       "      <td>1</td>\n",
       "      <td>1</td>\n",
       "      <td>1</td>\n",
       "      <td>1</td>\n",
       "      <td>1</td>\n",
       "      <td>0</td>\n",
       "    </tr>\n",
       "    <tr>\n",
       "      <th>3</th>\n",
       "      <td>hypothyroid</td>\n",
       "      <td>77</td>\n",
       "      <td>7.30</td>\n",
       "      <td>1.20</td>\n",
       "      <td>57</td>\n",
       "      <td>1.28</td>\n",
       "      <td>44</td>\n",
       "      <td>NaN</td>\n",
       "      <td>1</td>\n",
       "      <td>0</td>\n",
       "      <td>...</td>\n",
       "      <td>0</td>\n",
       "      <td>0</td>\n",
       "      <td>0</td>\n",
       "      <td>0</td>\n",
       "      <td>1</td>\n",
       "      <td>1</td>\n",
       "      <td>1</td>\n",
       "      <td>1</td>\n",
       "      <td>1</td>\n",
       "      <td>0</td>\n",
       "    </tr>\n",
       "    <tr>\n",
       "      <th>4</th>\n",
       "      <td>hypothyroid</td>\n",
       "      <td>85</td>\n",
       "      <td>138</td>\n",
       "      <td>1.10</td>\n",
       "      <td>27</td>\n",
       "      <td>1.19</td>\n",
       "      <td>23</td>\n",
       "      <td>NaN</td>\n",
       "      <td>0</td>\n",
       "      <td>0</td>\n",
       "      <td>...</td>\n",
       "      <td>0</td>\n",
       "      <td>0</td>\n",
       "      <td>0</td>\n",
       "      <td>0</td>\n",
       "      <td>1</td>\n",
       "      <td>1</td>\n",
       "      <td>1</td>\n",
       "      <td>1</td>\n",
       "      <td>1</td>\n",
       "      <td>0</td>\n",
       "    </tr>\n",
       "  </tbody>\n",
       "</table>\n",
       "<p>5 rows × 26 columns</p>\n",
       "</div>"
      ],
      "text/plain": [
       "   hypothyroid age   TSH    T3 TT4   T4U FTI  TBG  sex_M  on_thyroxine_t  ...  \\\n",
       "0  hypothyroid  15   145  1.70  19  1.13  17  NaN      0               1  ...   \n",
       "1  hypothyroid  24     0  0.20   4     1   0  NaN      1               0  ...   \n",
       "2  hypothyroid  24   430  0.40   6  1.04   6  NaN      0               0  ...   \n",
       "3  hypothyroid  77  7.30  1.20  57  1.28  44  NaN      1               0  ...   \n",
       "4  hypothyroid  85   138  1.10  27  1.19  23  NaN      0               0  ...   \n",
       "\n",
       "   sick_t  tumor_t  lithium_t  goitre_t  TSH_measured_y  T3_measured_y  \\\n",
       "0       0        0          0         0               1              1   \n",
       "1       0        0          0         0               1              1   \n",
       "2       0        0          0         0               1              1   \n",
       "3       0        0          0         0               1              1   \n",
       "4       0        0          0         0               1              1   \n",
       "\n",
       "   TT4_measured_y  T4U_measured_y  FTI_measured_y  TBG_measured_y  \n",
       "0               1               1               1               0  \n",
       "1               1               1               1               0  \n",
       "2               1               1               1               0  \n",
       "3               1               1               1               0  \n",
       "4               1               1               1               0  \n",
       "\n",
       "[5 rows x 26 columns]"
      ]
     },
     "execution_count": 17,
     "metadata": {},
     "output_type": "execute_result"
    }
   ],
   "source": [
    "# verify \n",
    "df_hp.head()"
   ]
  },
  {
   "cell_type": "code",
   "execution_count": 18,
   "metadata": {},
   "outputs": [
    {
     "data": {
      "text/plain": [
       "hypothyroid                    object\n",
       "age                            object\n",
       "TSH                            object\n",
       "T3                             object\n",
       "TT4                            object\n",
       "T4U                            object\n",
       "FTI                            object\n",
       "TBG                            object\n",
       "sex_M                           uint8\n",
       "on_thyroxine_t                  uint8\n",
       "query_on_thyroxine_t            uint8\n",
       "on_antithyroid_medication_t     uint8\n",
       "thyroid_surgery_t               uint8\n",
       "query_hypothyroid_t             uint8\n",
       "query_hyperthyroid_t            uint8\n",
       "pregnant_t                      uint8\n",
       "sick_t                          uint8\n",
       "tumor_t                         uint8\n",
       "lithium_t                       uint8\n",
       "goitre_t                        uint8\n",
       "TSH_measured_y                  uint8\n",
       "T3_measured_y                   uint8\n",
       "TT4_measured_y                  uint8\n",
       "T4U_measured_y                  uint8\n",
       "FTI_measured_y                  uint8\n",
       "TBG_measured_y                  uint8\n",
       "dtype: object"
      ]
     },
     "execution_count": 18,
     "metadata": {},
     "output_type": "execute_result"
    }
   ],
   "source": [
    "df_hp.dtypes"
   ]
  },
  {
   "cell_type": "code",
   "execution_count": 19,
   "metadata": {},
   "outputs": [],
   "source": [
    "# Drop a column\n",
    "#drop one column by name\n",
    "df_hp.drop('TBG', axis=1, inplace=True)"
   ]
  },
  {
   "cell_type": "code",
   "execution_count": 20,
   "metadata": {},
   "outputs": [],
   "source": [
    "#replace all NaN values with zeros\n",
    "# df_hp = df_hp.fillna()\n",
    "\n",
    "\"\"\"\n",
    "Fill Missing Values With Previous Values (Bfill, Ffill)\n",
    "Instead of interpolating the values, it can be helpful to use a previous or \n",
    "following value (also known as backward fill or forward fill).\n",
    "[https://datagy.io/pandas-fillna/]\n",
    "\"\"\"\n",
    "df_hp = df_hp.fillna(method='bfill') # backfill"
   ]
  },
  {
   "cell_type": "code",
   "execution_count": 21,
   "metadata": {},
   "outputs": [
    {
     "data": {
      "text/plain": [
       "hypothyroid                    0\n",
       "age                            0\n",
       "TSH                            0\n",
       "T3                             0\n",
       "TT4                            0\n",
       "T4U                            0\n",
       "FTI                            0\n",
       "sex_M                          0\n",
       "on_thyroxine_t                 0\n",
       "query_on_thyroxine_t           0\n",
       "on_antithyroid_medication_t    0\n",
       "thyroid_surgery_t              0\n",
       "query_hypothyroid_t            0\n",
       "query_hyperthyroid_t           0\n",
       "pregnant_t                     0\n",
       "sick_t                         0\n",
       "tumor_t                        0\n",
       "lithium_t                      0\n",
       "goitre_t                       0\n",
       "TSH_measured_y                 0\n",
       "T3_measured_y                  0\n",
       "TT4_measured_y                 0\n",
       "T4U_measured_y                 0\n",
       "FTI_measured_y                 0\n",
       "TBG_measured_y                 0\n",
       "dtype: int64"
      ]
     },
     "execution_count": 21,
     "metadata": {},
     "output_type": "execute_result"
    }
   ],
   "source": [
    "df_hp.isnull().sum()"
   ]
  },
  {
   "cell_type": "code",
   "execution_count": 22,
   "metadata": {},
   "outputs": [
    {
     "data": {
      "text/html": [
       "<div>\n",
       "<style scoped>\n",
       "    .dataframe tbody tr th:only-of-type {\n",
       "        vertical-align: middle;\n",
       "    }\n",
       "\n",
       "    .dataframe tbody tr th {\n",
       "        vertical-align: top;\n",
       "    }\n",
       "\n",
       "    .dataframe thead th {\n",
       "        text-align: right;\n",
       "    }\n",
       "</style>\n",
       "<table border=\"1\" class=\"dataframe\">\n",
       "  <thead>\n",
       "    <tr style=\"text-align: right;\">\n",
       "      <th></th>\n",
       "      <th>hypothyroid</th>\n",
       "      <th>age</th>\n",
       "      <th>TSH</th>\n",
       "      <th>T3</th>\n",
       "      <th>TT4</th>\n",
       "      <th>T4U</th>\n",
       "      <th>FTI</th>\n",
       "      <th>sex_M</th>\n",
       "      <th>on_thyroxine_t</th>\n",
       "      <th>query_on_thyroxine_t</th>\n",
       "      <th>...</th>\n",
       "      <th>sick_t</th>\n",
       "      <th>tumor_t</th>\n",
       "      <th>lithium_t</th>\n",
       "      <th>goitre_t</th>\n",
       "      <th>TSH_measured_y</th>\n",
       "      <th>T3_measured_y</th>\n",
       "      <th>TT4_measured_y</th>\n",
       "      <th>T4U_measured_y</th>\n",
       "      <th>FTI_measured_y</th>\n",
       "      <th>TBG_measured_y</th>\n",
       "    </tr>\n",
       "  </thead>\n",
       "  <tbody>\n",
       "    <tr>\n",
       "      <th>0</th>\n",
       "      <td>hypothyroid</td>\n",
       "      <td>15</td>\n",
       "      <td>145</td>\n",
       "      <td>1.70</td>\n",
       "      <td>19</td>\n",
       "      <td>1.13</td>\n",
       "      <td>17</td>\n",
       "      <td>0</td>\n",
       "      <td>1</td>\n",
       "      <td>0</td>\n",
       "      <td>...</td>\n",
       "      <td>0</td>\n",
       "      <td>0</td>\n",
       "      <td>0</td>\n",
       "      <td>0</td>\n",
       "      <td>1</td>\n",
       "      <td>1</td>\n",
       "      <td>1</td>\n",
       "      <td>1</td>\n",
       "      <td>1</td>\n",
       "      <td>0</td>\n",
       "    </tr>\n",
       "    <tr>\n",
       "      <th>1</th>\n",
       "      <td>hypothyroid</td>\n",
       "      <td>24</td>\n",
       "      <td>0</td>\n",
       "      <td>0.20</td>\n",
       "      <td>4</td>\n",
       "      <td>1</td>\n",
       "      <td>0</td>\n",
       "      <td>1</td>\n",
       "      <td>0</td>\n",
       "      <td>0</td>\n",
       "      <td>...</td>\n",
       "      <td>0</td>\n",
       "      <td>0</td>\n",
       "      <td>0</td>\n",
       "      <td>0</td>\n",
       "      <td>1</td>\n",
       "      <td>1</td>\n",
       "      <td>1</td>\n",
       "      <td>1</td>\n",
       "      <td>1</td>\n",
       "      <td>0</td>\n",
       "    </tr>\n",
       "    <tr>\n",
       "      <th>2</th>\n",
       "      <td>hypothyroid</td>\n",
       "      <td>24</td>\n",
       "      <td>430</td>\n",
       "      <td>0.40</td>\n",
       "      <td>6</td>\n",
       "      <td>1.04</td>\n",
       "      <td>6</td>\n",
       "      <td>0</td>\n",
       "      <td>0</td>\n",
       "      <td>0</td>\n",
       "      <td>...</td>\n",
       "      <td>0</td>\n",
       "      <td>0</td>\n",
       "      <td>0</td>\n",
       "      <td>0</td>\n",
       "      <td>1</td>\n",
       "      <td>1</td>\n",
       "      <td>1</td>\n",
       "      <td>1</td>\n",
       "      <td>1</td>\n",
       "      <td>0</td>\n",
       "    </tr>\n",
       "    <tr>\n",
       "      <th>3</th>\n",
       "      <td>hypothyroid</td>\n",
       "      <td>77</td>\n",
       "      <td>7.30</td>\n",
       "      <td>1.20</td>\n",
       "      <td>57</td>\n",
       "      <td>1.28</td>\n",
       "      <td>44</td>\n",
       "      <td>1</td>\n",
       "      <td>0</td>\n",
       "      <td>0</td>\n",
       "      <td>...</td>\n",
       "      <td>0</td>\n",
       "      <td>0</td>\n",
       "      <td>0</td>\n",
       "      <td>0</td>\n",
       "      <td>1</td>\n",
       "      <td>1</td>\n",
       "      <td>1</td>\n",
       "      <td>1</td>\n",
       "      <td>1</td>\n",
       "      <td>0</td>\n",
       "    </tr>\n",
       "    <tr>\n",
       "      <th>4</th>\n",
       "      <td>hypothyroid</td>\n",
       "      <td>85</td>\n",
       "      <td>138</td>\n",
       "      <td>1.10</td>\n",
       "      <td>27</td>\n",
       "      <td>1.19</td>\n",
       "      <td>23</td>\n",
       "      <td>0</td>\n",
       "      <td>0</td>\n",
       "      <td>0</td>\n",
       "      <td>...</td>\n",
       "      <td>0</td>\n",
       "      <td>0</td>\n",
       "      <td>0</td>\n",
       "      <td>0</td>\n",
       "      <td>1</td>\n",
       "      <td>1</td>\n",
       "      <td>1</td>\n",
       "      <td>1</td>\n",
       "      <td>1</td>\n",
       "      <td>0</td>\n",
       "    </tr>\n",
       "  </tbody>\n",
       "</table>\n",
       "<p>5 rows × 25 columns</p>\n",
       "</div>"
      ],
      "text/plain": [
       "   hypothyroid age   TSH    T3 TT4   T4U FTI  sex_M  on_thyroxine_t  \\\n",
       "0  hypothyroid  15   145  1.70  19  1.13  17      0               1   \n",
       "1  hypothyroid  24     0  0.20   4     1   0      1               0   \n",
       "2  hypothyroid  24   430  0.40   6  1.04   6      0               0   \n",
       "3  hypothyroid  77  7.30  1.20  57  1.28  44      1               0   \n",
       "4  hypothyroid  85   138  1.10  27  1.19  23      0               0   \n",
       "\n",
       "   query_on_thyroxine_t  ...  sick_t  tumor_t  lithium_t  goitre_t  \\\n",
       "0                     0  ...       0        0          0         0   \n",
       "1                     0  ...       0        0          0         0   \n",
       "2                     0  ...       0        0          0         0   \n",
       "3                     0  ...       0        0          0         0   \n",
       "4                     0  ...       0        0          0         0   \n",
       "\n",
       "   TSH_measured_y  T3_measured_y  TT4_measured_y  T4U_measured_y  \\\n",
       "0               1              1               1               1   \n",
       "1               1              1               1               1   \n",
       "2               1              1               1               1   \n",
       "3               1              1               1               1   \n",
       "4               1              1               1               1   \n",
       "\n",
       "   FTI_measured_y  TBG_measured_y  \n",
       "0               1               0  \n",
       "1               1               0  \n",
       "2               1               0  \n",
       "3               1               0  \n",
       "4               1               0  \n",
       "\n",
       "[5 rows x 25 columns]"
      ]
     },
     "execution_count": 22,
     "metadata": {},
     "output_type": "execute_result"
    }
   ],
   "source": [
    "df_hp.head()"
   ]
  },
  {
   "cell_type": "code",
   "execution_count": 23,
   "metadata": {},
   "outputs": [
    {
     "data": {
      "text/plain": [
       "['hypothyroid',\n",
       " 'age',\n",
       " 'TSH',\n",
       " 'T3',\n",
       " 'TT4',\n",
       " 'T4U',\n",
       " 'FTI',\n",
       " 'sex_M',\n",
       " 'on_thyroxine_t',\n",
       " 'query_on_thyroxine_t',\n",
       " 'on_antithyroid_medication_t',\n",
       " 'thyroid_surgery_t',\n",
       " 'query_hypothyroid_t',\n",
       " 'query_hyperthyroid_t',\n",
       " 'pregnant_t',\n",
       " 'sick_t',\n",
       " 'tumor_t',\n",
       " 'lithium_t',\n",
       " 'goitre_t',\n",
       " 'TSH_measured_y',\n",
       " 'T3_measured_y',\n",
       " 'TT4_measured_y',\n",
       " 'T4U_measured_y',\n",
       " 'FTI_measured_y',\n",
       " 'TBG_measured_y']"
      ]
     },
     "execution_count": 23,
     "metadata": {},
     "output_type": "execute_result"
    }
   ],
   "source": [
    "df_hp.columns.tolist()"
   ]
  },
  {
   "cell_type": "code",
   "execution_count": 24,
   "metadata": {},
   "outputs": [],
   "source": [
    "# Convert data types to int and float\n",
    "\n",
    "col_to_float = [ 'TSH','T3','TT4','T4U',]\n",
    "col_to_int = [\n",
    " 'age',\n",
    "#  'status_negative',\n",
    " 'sex_M',\n",
    " 'on_thyroxine_t',\n",
    " 'query_on_thyroxine_t',\n",
    " 'on_antithyroid_medication_t',\n",
    " 'thyroid_surgery_t',\n",
    " 'query_hypothyroid_t',\n",
    " 'query_hyperthyroid_t',\n",
    " 'pregnant_t',\n",
    " 'sick_t',\n",
    " 'tumor_t',\n",
    " 'lithium_t',\n",
    " 'goitre_t',\n",
    " 'TSH_measured_y',\n",
    " 'T3_measured_y',\n",
    " 'TT4_measured_y',\n",
    " 'T4U_measured_y',\n",
    " 'FTI_measured_y',\n",
    " 'TBG_measured_y'\n",
    "]\n",
    " \n",
    "for col in col_to_float :\n",
    "    df_hp[col] = df_hp[col].astype(float)\n",
    "\n",
    "for col in col_to_int:\n",
    "    df_hp[col] = df_hp[col].astype(int)"
   ]
  },
  {
   "cell_type": "code",
   "execution_count": 25,
   "metadata": {},
   "outputs": [
    {
     "data": {
      "text/plain": [
       "hypothyroid                     object\n",
       "age                              int64\n",
       "TSH                            float64\n",
       "T3                             float64\n",
       "TT4                            float64\n",
       "T4U                            float64\n",
       "FTI                             object\n",
       "sex_M                            int64\n",
       "on_thyroxine_t                   int64\n",
       "query_on_thyroxine_t             int64\n",
       "on_antithyroid_medication_t      int64\n",
       "thyroid_surgery_t                int64\n",
       "query_hypothyroid_t              int64\n",
       "query_hyperthyroid_t             int64\n",
       "pregnant_t                       int64\n",
       "sick_t                           int64\n",
       "tumor_t                          int64\n",
       "lithium_t                        int64\n",
       "goitre_t                         int64\n",
       "TSH_measured_y                   int64\n",
       "T3_measured_y                    int64\n",
       "TT4_measured_y                   int64\n",
       "T4U_measured_y                   int64\n",
       "FTI_measured_y                   int64\n",
       "TBG_measured_y                   int64\n",
       "dtype: object"
      ]
     },
     "execution_count": 25,
     "metadata": {},
     "output_type": "execute_result"
    }
   ],
   "source": [
    "df_hp.dtypes"
   ]
  },
  {
   "cell_type": "code",
   "execution_count": 26,
   "metadata": {},
   "outputs": [
    {
     "data": {
      "text/plain": [
       "58"
      ]
     },
     "execution_count": 26,
     "metadata": {},
     "output_type": "execute_result"
    }
   ],
   "source": [
    "# check duplicated \n",
    "df_hp.duplicated().sum()"
   ]
  },
  {
   "cell_type": "code",
   "execution_count": 27,
   "metadata": {},
   "outputs": [],
   "source": [
    "# Remove duplicates\n",
    "df_hp.drop_duplicates(inplace=True)"
   ]
  },
  {
   "cell_type": "code",
   "execution_count": 28,
   "metadata": {},
   "outputs": [
    {
     "data": {
      "text/plain": [
       "0"
      ]
     },
     "execution_count": 28,
     "metadata": {},
     "output_type": "execute_result"
    }
   ],
   "source": [
    "# check duplicated \n",
    "df_hp.duplicated().sum()"
   ]
  },
  {
   "cell_type": "code",
   "execution_count": 29,
   "metadata": {},
   "outputs": [
    {
     "data": {
      "text/html": [
       "<div>\n",
       "<style scoped>\n",
       "    .dataframe tbody tr th:only-of-type {\n",
       "        vertical-align: middle;\n",
       "    }\n",
       "\n",
       "    .dataframe tbody tr th {\n",
       "        vertical-align: top;\n",
       "    }\n",
       "\n",
       "    .dataframe thead th {\n",
       "        text-align: right;\n",
       "    }\n",
       "</style>\n",
       "<table border=\"1\" class=\"dataframe\">\n",
       "  <thead>\n",
       "    <tr style=\"text-align: right;\">\n",
       "      <th></th>\n",
       "      <th>hypothyroid</th>\n",
       "      <th>age</th>\n",
       "      <th>TSH</th>\n",
       "      <th>T3</th>\n",
       "      <th>TT4</th>\n",
       "      <th>T4U</th>\n",
       "      <th>FTI</th>\n",
       "      <th>sex_M</th>\n",
       "      <th>on_thyroxine_t</th>\n",
       "      <th>query_on_thyroxine_t</th>\n",
       "      <th>...</th>\n",
       "      <th>sick_t</th>\n",
       "      <th>tumor_t</th>\n",
       "      <th>lithium_t</th>\n",
       "      <th>goitre_t</th>\n",
       "      <th>TSH_measured_y</th>\n",
       "      <th>T3_measured_y</th>\n",
       "      <th>TT4_measured_y</th>\n",
       "      <th>T4U_measured_y</th>\n",
       "      <th>FTI_measured_y</th>\n",
       "      <th>TBG_measured_y</th>\n",
       "    </tr>\n",
       "  </thead>\n",
       "  <tbody>\n",
       "    <tr>\n",
       "      <th>0</th>\n",
       "      <td>hypothyroid</td>\n",
       "      <td>15</td>\n",
       "      <td>145.0</td>\n",
       "      <td>1.7</td>\n",
       "      <td>19.0</td>\n",
       "      <td>1.13</td>\n",
       "      <td>17</td>\n",
       "      <td>0</td>\n",
       "      <td>1</td>\n",
       "      <td>0</td>\n",
       "      <td>...</td>\n",
       "      <td>0</td>\n",
       "      <td>0</td>\n",
       "      <td>0</td>\n",
       "      <td>0</td>\n",
       "      <td>1</td>\n",
       "      <td>1</td>\n",
       "      <td>1</td>\n",
       "      <td>1</td>\n",
       "      <td>1</td>\n",
       "      <td>0</td>\n",
       "    </tr>\n",
       "    <tr>\n",
       "      <th>1</th>\n",
       "      <td>hypothyroid</td>\n",
       "      <td>24</td>\n",
       "      <td>0.0</td>\n",
       "      <td>0.2</td>\n",
       "      <td>4.0</td>\n",
       "      <td>1.00</td>\n",
       "      <td>0</td>\n",
       "      <td>1</td>\n",
       "      <td>0</td>\n",
       "      <td>0</td>\n",
       "      <td>...</td>\n",
       "      <td>0</td>\n",
       "      <td>0</td>\n",
       "      <td>0</td>\n",
       "      <td>0</td>\n",
       "      <td>1</td>\n",
       "      <td>1</td>\n",
       "      <td>1</td>\n",
       "      <td>1</td>\n",
       "      <td>1</td>\n",
       "      <td>0</td>\n",
       "    </tr>\n",
       "    <tr>\n",
       "      <th>2</th>\n",
       "      <td>hypothyroid</td>\n",
       "      <td>24</td>\n",
       "      <td>430.0</td>\n",
       "      <td>0.4</td>\n",
       "      <td>6.0</td>\n",
       "      <td>1.04</td>\n",
       "      <td>6</td>\n",
       "      <td>0</td>\n",
       "      <td>0</td>\n",
       "      <td>0</td>\n",
       "      <td>...</td>\n",
       "      <td>0</td>\n",
       "      <td>0</td>\n",
       "      <td>0</td>\n",
       "      <td>0</td>\n",
       "      <td>1</td>\n",
       "      <td>1</td>\n",
       "      <td>1</td>\n",
       "      <td>1</td>\n",
       "      <td>1</td>\n",
       "      <td>0</td>\n",
       "    </tr>\n",
       "    <tr>\n",
       "      <th>3</th>\n",
       "      <td>hypothyroid</td>\n",
       "      <td>77</td>\n",
       "      <td>7.3</td>\n",
       "      <td>1.2</td>\n",
       "      <td>57.0</td>\n",
       "      <td>1.28</td>\n",
       "      <td>44</td>\n",
       "      <td>1</td>\n",
       "      <td>0</td>\n",
       "      <td>0</td>\n",
       "      <td>...</td>\n",
       "      <td>0</td>\n",
       "      <td>0</td>\n",
       "      <td>0</td>\n",
       "      <td>0</td>\n",
       "      <td>1</td>\n",
       "      <td>1</td>\n",
       "      <td>1</td>\n",
       "      <td>1</td>\n",
       "      <td>1</td>\n",
       "      <td>0</td>\n",
       "    </tr>\n",
       "    <tr>\n",
       "      <th>4</th>\n",
       "      <td>hypothyroid</td>\n",
       "      <td>85</td>\n",
       "      <td>138.0</td>\n",
       "      <td>1.1</td>\n",
       "      <td>27.0</td>\n",
       "      <td>1.19</td>\n",
       "      <td>23</td>\n",
       "      <td>0</td>\n",
       "      <td>0</td>\n",
       "      <td>0</td>\n",
       "      <td>...</td>\n",
       "      <td>0</td>\n",
       "      <td>0</td>\n",
       "      <td>0</td>\n",
       "      <td>0</td>\n",
       "      <td>1</td>\n",
       "      <td>1</td>\n",
       "      <td>1</td>\n",
       "      <td>1</td>\n",
       "      <td>1</td>\n",
       "      <td>0</td>\n",
       "    </tr>\n",
       "  </tbody>\n",
       "</table>\n",
       "<p>5 rows × 25 columns</p>\n",
       "</div>"
      ],
      "text/plain": [
       "   hypothyroid  age    TSH   T3   TT4   T4U FTI  sex_M  on_thyroxine_t  \\\n",
       "0  hypothyroid   15  145.0  1.7  19.0  1.13  17      0               1   \n",
       "1  hypothyroid   24    0.0  0.2   4.0  1.00   0      1               0   \n",
       "2  hypothyroid   24  430.0  0.4   6.0  1.04   6      0               0   \n",
       "3  hypothyroid   77    7.3  1.2  57.0  1.28  44      1               0   \n",
       "4  hypothyroid   85  138.0  1.1  27.0  1.19  23      0               0   \n",
       "\n",
       "   query_on_thyroxine_t  ...  sick_t  tumor_t  lithium_t  goitre_t  \\\n",
       "0                     0  ...       0        0          0         0   \n",
       "1                     0  ...       0        0          0         0   \n",
       "2                     0  ...       0        0          0         0   \n",
       "3                     0  ...       0        0          0         0   \n",
       "4                     0  ...       0        0          0         0   \n",
       "\n",
       "   TSH_measured_y  T3_measured_y  TT4_measured_y  T4U_measured_y  \\\n",
       "0               1              1               1               1   \n",
       "1               1              1               1               1   \n",
       "2               1              1               1               1   \n",
       "3               1              1               1               1   \n",
       "4               1              1               1               1   \n",
       "\n",
       "   FTI_measured_y  TBG_measured_y  \n",
       "0               1               0  \n",
       "1               1               0  \n",
       "2               1               0  \n",
       "3               1               0  \n",
       "4               1               0  \n",
       "\n",
       "[5 rows x 25 columns]"
      ]
     },
     "execution_count": 29,
     "metadata": {},
     "output_type": "execute_result"
    }
   ],
   "source": [
    "df_hp.head()"
   ]
  },
  {
   "cell_type": "markdown",
   "metadata": {},
   "source": []
  },
  {
   "cell_type": "markdown",
   "metadata": {},
   "source": [
    "# Univariate Analysis"
   ]
  },
  {
   "cell_type": "code",
   "execution_count": 30,
   "metadata": {},
   "outputs": [
    {
     "data": {
      "image/png": "[encoded data removed]",
      "text/plain": [
       "<Figure size 432x288 with 1 Axes>"
      ]
     },
     "metadata": {
      "needs_background": "light"
     },
     "output_type": "display_data"
    }
   ],
   "source": [
    "# A count plot on Sex\n",
    "# count plot on single categorical variable\n",
    "sns.countplot(x ='sex_M', data = df_hp)\n",
    "\n",
    "# Show the plot\n",
    "plt.title(\"SEX VALUE COUNTS\")\n",
    "plt.show()"
   ]
  },
  {
   "cell_type": "code",
   "execution_count": 31,
   "metadata": {},
   "outputs": [
    {
     "data": {
      "image/png": "[encoded data removed]",
      "text/plain": [
       "<Figure size 432x288 with 1 Axes>"
      ]
     },
     "metadata": {
      "needs_background": "light"
     },
     "output_type": "display_data"
    }
   ],
   "source": [
    "# A count plot on status\n",
    "# count plot on single categorical variable\n",
    "sns.countplot(x ='hypothyroid', data = df_hp)\n",
    "\n",
    "plt.title(\"STATUS VALUE COUNTS\")\n",
    "# Show the plot\n",
    "plt.show()"
   ]
  },
  {
   "cell_type": "markdown",
   "metadata": {},
   "source": []
  },
  {
   "cell_type": "markdown",
   "metadata": {},
   "source": [
    "# Feature Engineering.\n",
    "\n",
    "<h4>While performing feature engineering, we would apply some fundamental concepts to our dataset which have been described below: </h4>\n",
    "\n",
    "<h3>Concept 1: Feature Selection</h3>\n",
    "<p>\n",
    "    This would involve identifying and removing unneeded, irrelevant and redundant attributes from data. \n",
    "    We would estimate the usefulness of our features by allocating and ranking features by their scores in terms of impact on our model. Features with the highest scores are selected for inclusion in the training dataset, whereas the rest are ignored. \n",
    "    A feature may be important if it is highly correlated with the dependent variable. To identify highly correlated features, we can also refer to reports from models on the variable importance. This is determined during the modeling preparation process.\n",
    "</p>\n"
   ]
  },
  {
   "cell_type": "markdown",
   "metadata": {},
   "source": [
    "## Feature Selection"
   ]
  },
  {
   "cell_type": "code",
   "execution_count": 32,
   "metadata": {},
   "outputs": [
    {
     "data": {
      "text/plain": [
       "['hypothyroid',\n",
       " 'age',\n",
       " 'TSH',\n",
       " 'T3',\n",
       " 'TT4',\n",
       " 'T4U',\n",
       " 'FTI',\n",
       " 'sex_M',\n",
       " 'on_thyroxine_t',\n",
       " 'query_on_thyroxine_t',\n",
       " 'on_antithyroid_medication_t',\n",
       " 'thyroid_surgery_t',\n",
       " 'query_hypothyroid_t',\n",
       " 'query_hyperthyroid_t',\n",
       " 'pregnant_t',\n",
       " 'sick_t',\n",
       " 'tumor_t',\n",
       " 'lithium_t',\n",
       " 'goitre_t',\n",
       " 'TSH_measured_y',\n",
       " 'T3_measured_y',\n",
       " 'TT4_measured_y',\n",
       " 'T4U_measured_y',\n",
       " 'FTI_measured_y',\n",
       " 'TBG_measured_y']"
      ]
     },
     "execution_count": 32,
     "metadata": {},
     "output_type": "execute_result"
    }
   ],
   "source": [
    "df_hp.columns.tolist()"
   ]
  },
  {
   "cell_type": "code",
   "execution_count": 33,
   "metadata": {},
   "outputs": [],
   "source": [
    "def extra_tree_classifier(X_list,y_list):\n",
    "    \"\"\"\n",
    "        [https://www.analyticsvidhya.com/blog/2021/04/discovering-the-shades-of-feature-selection-methods/]\n",
    "    \"\"\"\n",
    "    X = df_hp[X_list]\n",
    "    y = df_hp[y_list]\n",
    "\n",
    "    from sklearn.ensemble import ExtraTreesClassifier\n",
    "\n",
    "    model = ExtraTreesClassifier()\n",
    "\n",
    "    model.fit(X,y)\n",
    "\n",
    "    model_import = model.feature_importances_\n",
    "    print(model_import)\n",
    "    feat_imp = pd.Series(model.feature_importances_, index=X.columns)\n",
    "\n",
    "    feat_imp.nlargest(13).plot.bar()\n",
    "    plt.show()\n",
    "\n"
   ]
  },
  {
   "cell_type": "code",
   "execution_count": 34,
   "metadata": {},
   "outputs": [],
   "source": [
    "a = ['age',\n",
    " 'TSH',\n",
    " 'T3',\n",
    " 'TT4',\n",
    " 'T4U',\n",
    " 'FTI',\n",
    " 'sex_M',\n",
    " 'on_thyroxine_t',\n",
    " 'query_on_thyroxine_t',\n",
    " 'on_antithyroid_medication_t',\n",
    " 'thyroid_surgery_t',\n",
    " 'query_hypothyroid_t',\n",
    " 'query_hyperthyroid_t',\n",
    " 'pregnant_t',\n",
    " 'sick_t',\n",
    " 'tumor_t',\n",
    " 'lithium_t',\n",
    " 'goitre_t',\n",
    " 'TSH_measured_y',\n",
    " 'T3_measured_y',\n",
    " 'TT4_measured_y',\n",
    " 'T4U_measured_y',\n",
    " 'FTI_measured_y',\n",
    " 'TBG_measured_y']\n",
    "\n",
    "b =['hypothyroid']"
   ]
  },
  {
   "cell_type": "code",
   "execution_count": 35,
   "metadata": {},
   "outputs": [
    {
     "name": "stderr",
     "output_type": "stream",
     "text": [
      "/home/eliud_luda/anaconda3/envs/ds_ml_env/lib/python3.6/site-packages/ipykernel_launcher.py:12: DataConversionWarning: A column-vector y was passed when a 1d array was expected. Please change the shape of y to (n_samples,), for example using ravel().\n",
      "  if sys.path[0] == '':\n"
     ]
    },
    {
     "name": "stdout",
     "output_type": "stream",
     "text": [
      "[4.75144663e-02 2.97668635e-01 7.12780953e-02 2.28744416e-01\n",
      " 5.70324947e-02 2.12148338e-01 9.93234896e-03 1.07685459e-02\n",
      " 5.71599671e-04 4.90555539e-03 5.55151929e-03 1.22116738e-02\n",
      " 5.14979426e-03 1.21064805e-03 5.66181568e-03 3.55521666e-04\n",
      " 6.21737738e-05 4.05706481e-03 7.29822225e-03 8.22047507e-03\n",
      " 8.98515681e-04 1.30427402e-03 7.72525745e-04 6.68128059e-03]\n"
     ]
    },
    {
     "data": {
      "image/png": "[encoded data removed]",
      "text/plain": [
       "<Figure size 432x288 with 1 Axes>"
      ]
     },
     "metadata": {
      "needs_background": "light"
     },
     "output_type": "display_data"
    }
   ],
   "source": [
    "extra_tree_classifier(a,b)"
   ]
  },
  {
   "cell_type": "code",
   "execution_count": 36,
   "metadata": {},
   "outputs": [],
   "source": [
    "# create new dataframe from selected columns\n",
    "df_new = df_hp[['age','TSH','T3','TT4','T4U','FTI','hypothyroid']]"
   ]
  },
  {
   "cell_type": "code",
   "execution_count": 37,
   "metadata": {},
   "outputs": [
    {
     "data": {
      "text/html": [
       "<div>\n",
       "<style scoped>\n",
       "    .dataframe tbody tr th:only-of-type {\n",
       "        vertical-align: middle;\n",
       "    }\n",
       "\n",
       "    .dataframe tbody tr th {\n",
       "        vertical-align: top;\n",
       "    }\n",
       "\n",
       "    .dataframe thead th {\n",
       "        text-align: right;\n",
       "    }\n",
       "</style>\n",
       "<table border=\"1\" class=\"dataframe\">\n",
       "  <thead>\n",
       "    <tr style=\"text-align: right;\">\n",
       "      <th></th>\n",
       "      <th>age</th>\n",
       "      <th>TSH</th>\n",
       "      <th>T3</th>\n",
       "      <th>TT4</th>\n",
       "      <th>T4U</th>\n",
       "      <th>FTI</th>\n",
       "      <th>hypothyroid</th>\n",
       "    </tr>\n",
       "  </thead>\n",
       "  <tbody>\n",
       "    <tr>\n",
       "      <th>0</th>\n",
       "      <td>15</td>\n",
       "      <td>145.0</td>\n",
       "      <td>1.7</td>\n",
       "      <td>19.0</td>\n",
       "      <td>1.13</td>\n",
       "      <td>17</td>\n",
       "      <td>hypothyroid</td>\n",
       "    </tr>\n",
       "    <tr>\n",
       "      <th>1</th>\n",
       "      <td>24</td>\n",
       "      <td>0.0</td>\n",
       "      <td>0.2</td>\n",
       "      <td>4.0</td>\n",
       "      <td>1.00</td>\n",
       "      <td>0</td>\n",
       "      <td>hypothyroid</td>\n",
       "    </tr>\n",
       "    <tr>\n",
       "      <th>2</th>\n",
       "      <td>24</td>\n",
       "      <td>430.0</td>\n",
       "      <td>0.4</td>\n",
       "      <td>6.0</td>\n",
       "      <td>1.04</td>\n",
       "      <td>6</td>\n",
       "      <td>hypothyroid</td>\n",
       "    </tr>\n",
       "    <tr>\n",
       "      <th>3</th>\n",
       "      <td>77</td>\n",
       "      <td>7.3</td>\n",
       "      <td>1.2</td>\n",
       "      <td>57.0</td>\n",
       "      <td>1.28</td>\n",
       "      <td>44</td>\n",
       "      <td>hypothyroid</td>\n",
       "    </tr>\n",
       "    <tr>\n",
       "      <th>4</th>\n",
       "      <td>85</td>\n",
       "      <td>138.0</td>\n",
       "      <td>1.1</td>\n",
       "      <td>27.0</td>\n",
       "      <td>1.19</td>\n",
       "      <td>23</td>\n",
       "      <td>hypothyroid</td>\n",
       "    </tr>\n",
       "  </tbody>\n",
       "</table>\n",
       "</div>"
      ],
      "text/plain": [
       "   age    TSH   T3   TT4   T4U FTI  hypothyroid\n",
       "0   15  145.0  1.7  19.0  1.13  17  hypothyroid\n",
       "1   24    0.0  0.2   4.0  1.00   0  hypothyroid\n",
       "2   24  430.0  0.4   6.0  1.04   6  hypothyroid\n",
       "3   77    7.3  1.2  57.0  1.28  44  hypothyroid\n",
       "4   85  138.0  1.1  27.0  1.19  23  hypothyroid"
      ]
     },
     "execution_count": 37,
     "metadata": {},
     "output_type": "execute_result"
    }
   ],
   "source": [
    "df_new.head()"
   ]
  },
  {
   "cell_type": "code",
   "execution_count": 38,
   "metadata": {},
   "outputs": [
    {
     "data": {
      "text/plain": [
       "age              int64\n",
       "TSH            float64\n",
       "T3             float64\n",
       "TT4            float64\n",
       "T4U            float64\n",
       "FTI             object\n",
       "hypothyroid     object\n",
       "dtype: object"
      ]
     },
     "execution_count": 38,
     "metadata": {},
     "output_type": "execute_result"
    }
   ],
   "source": [
    "df_new.dtypes"
   ]
  },
  {
   "cell_type": "code",
   "execution_count": 39,
   "metadata": {},
   "outputs": [
    {
     "name": "stderr",
     "output_type": "stream",
     "text": [
      "/home/eliud_luda/anaconda3/envs/ds_ml_env/lib/python3.6/site-packages/ipykernel_launcher.py:1: SettingWithCopyWarning: \n",
      "A value is trying to be set on a copy of a slice from a DataFrame.\n",
      "Try using .loc[row_indexer,col_indexer] = value instead\n",
      "\n",
      "See the caveats in the documentation: https://pandas.pydata.org/pandas-docs/stable/user_guide/indexing.html#returning-a-view-versus-a-copy\n",
      "  \"\"\"Entry point for launching an IPython kernel.\n"
     ]
    }
   ],
   "source": [
    "df_new['FTI'] = df_new['FTI'].astype(float)"
   ]
  },
  {
   "cell_type": "code",
   "execution_count": 40,
   "metadata": {},
   "outputs": [
    {
     "data": {
      "text/plain": [
       "age              int64\n",
       "TSH            float64\n",
       "T3             float64\n",
       "TT4            float64\n",
       "T4U            float64\n",
       "FTI            float64\n",
       "hypothyroid     object\n",
       "dtype: object"
      ]
     },
     "execution_count": 40,
     "metadata": {},
     "output_type": "execute_result"
    }
   ],
   "source": [
    "df_new.dtypes\n"
   ]
  },
  {
   "cell_type": "code",
   "execution_count": 63,
   "metadata": {},
   "outputs": [
    {
     "data": {
      "text/html": [
       "<div>\n",
       "<style scoped>\n",
       "    .dataframe tbody tr th:only-of-type {\n",
       "        vertical-align: middle;\n",
       "    }\n",
       "\n",
       "    .dataframe tbody tr th {\n",
       "        vertical-align: top;\n",
       "    }\n",
       "\n",
       "    .dataframe thead th {\n",
       "        text-align: right;\n",
       "    }\n",
       "</style>\n",
       "<table border=\"1\" class=\"dataframe\">\n",
       "  <thead>\n",
       "    <tr style=\"text-align: right;\">\n",
       "      <th></th>\n",
       "      <th>age</th>\n",
       "      <th>TSH</th>\n",
       "      <th>T3</th>\n",
       "      <th>TT4</th>\n",
       "      <th>T4U</th>\n",
       "      <th>FTI</th>\n",
       "      <th>hypothyroid</th>\n",
       "    </tr>\n",
       "  </thead>\n",
       "  <tbody>\n",
       "    <tr>\n",
       "      <th>0</th>\n",
       "      <td>15</td>\n",
       "      <td>145.0</td>\n",
       "      <td>1.7</td>\n",
       "      <td>19.0</td>\n",
       "      <td>1.13</td>\n",
       "      <td>17.0</td>\n",
       "      <td>hypothyroid</td>\n",
       "    </tr>\n",
       "    <tr>\n",
       "      <th>1</th>\n",
       "      <td>24</td>\n",
       "      <td>0.0</td>\n",
       "      <td>0.2</td>\n",
       "      <td>4.0</td>\n",
       "      <td>1.00</td>\n",
       "      <td>0.0</td>\n",
       "      <td>hypothyroid</td>\n",
       "    </tr>\n",
       "    <tr>\n",
       "      <th>2</th>\n",
       "      <td>24</td>\n",
       "      <td>430.0</td>\n",
       "      <td>0.4</td>\n",
       "      <td>6.0</td>\n",
       "      <td>1.04</td>\n",
       "      <td>6.0</td>\n",
       "      <td>hypothyroid</td>\n",
       "    </tr>\n",
       "    <tr>\n",
       "      <th>3</th>\n",
       "      <td>77</td>\n",
       "      <td>7.3</td>\n",
       "      <td>1.2</td>\n",
       "      <td>57.0</td>\n",
       "      <td>1.28</td>\n",
       "      <td>44.0</td>\n",
       "      <td>hypothyroid</td>\n",
       "    </tr>\n",
       "    <tr>\n",
       "      <th>4</th>\n",
       "      <td>85</td>\n",
       "      <td>138.0</td>\n",
       "      <td>1.1</td>\n",
       "      <td>27.0</td>\n",
       "      <td>1.19</td>\n",
       "      <td>23.0</td>\n",
       "      <td>hypothyroid</td>\n",
       "    </tr>\n",
       "  </tbody>\n",
       "</table>\n",
       "</div>"
      ],
      "text/plain": [
       "   age    TSH   T3   TT4   T4U   FTI  hypothyroid\n",
       "0   15  145.0  1.7  19.0  1.13  17.0  hypothyroid\n",
       "1   24    0.0  0.2   4.0  1.00   0.0  hypothyroid\n",
       "2   24  430.0  0.4   6.0  1.04   6.0  hypothyroid\n",
       "3   77    7.3  1.2  57.0  1.28  44.0  hypothyroid\n",
       "4   85  138.0  1.1  27.0  1.19  23.0  hypothyroid"
      ]
     },
     "execution_count": 63,
     "metadata": {},
     "output_type": "execute_result"
    }
   ],
   "source": [
    "df_new.head()"
   ]
  },
  {
   "cell_type": "markdown",
   "metadata": {},
   "source": [
    "## Cluster diagram"
   ]
  },
  {
   "cell_type": "code",
   "execution_count": 41,
   "metadata": {},
   "outputs": [
    {
     "data": {
      "image/png": "[encoded data removed]",
      "text/plain": [
       "<Figure size 487.52x360 with 1 Axes>"
      ]
     },
     "metadata": {
      "needs_background": "light"
     },
     "output_type": "display_data"
    }
   ],
   "source": [
    "sns.lmplot(x='TSH',y='TT4', data=df_new, hue='hypothyroid',\n",
    "           palette='Set1', fit_reg=False, scatter_kws={\"s\": 70});"
   ]
  },
  {
   "cell_type": "code",
   "execution_count": 42,
   "metadata": {},
   "outputs": [
    {
     "data": {
      "text/plain": [
       "<seaborn.axisgrid.FacetGrid at 0x7fbb09e0e208>"
      ]
     },
     "execution_count": 42,
     "metadata": {},
     "output_type": "execute_result"
    },
    {
     "data": {
      "image/png": "[encoded data removed]",
      "text/plain": [
       "<Figure size 487.52x360 with 1 Axes>"
      ]
     },
     "metadata": {
      "needs_background": "light"
     },
     "output_type": "display_data"
    }
   ],
   "source": [
    "sns.lmplot(x='FTI',y='T3', data=df_new, hue='hypothyroid',\n",
    "           palette='Set1', fit_reg=False, scatter_kws={\"s\": 70})"
   ]
  },
  {
   "cell_type": "code",
   "execution_count": 43,
   "metadata": {},
   "outputs": [
    {
     "data": {
      "image/png": "[encoded data removed]",
      "text/plain": [
       "<Figure size 487.52x360 with 1 Axes>"
      ]
     },
     "metadata": {
      "needs_background": "light"
     },
     "output_type": "display_data"
    }
   ],
   "source": [
    "sns.lmplot(x='T4U',y='age', data=df_new, hue='hypothyroid',\n",
    "           palette='Set1', fit_reg=False, scatter_kws={\"s\": 70});"
   ]
  },
  {
   "cell_type": "markdown",
   "metadata": {},
   "source": [
    "# Model Building and Testing.\n",
    "\n",
    "## our problem is a classification problem on whether someone has "
   ]
  },
  {
   "cell_type": "markdown",
   "metadata": {},
   "source": [
    "# SVM:"
   ]
  },
  {
   "cell_type": "code",
   "execution_count": 44,
   "metadata": {},
   "outputs": [],
   "source": [
    "# Specify the input for the model\n",
    "\n",
    "X = df_new[['age','TSH','T3','TT4','T4U','FTI']].values\n",
    "# Put a label of either a muffin or not and assign it 0 or 1\n",
    "type_label = np.where(df_new['hypothyroid']=='hypothyroid',0,1)"
   ]
  },
  {
   "cell_type": "code",
   "execution_count": 45,
   "metadata": {},
   "outputs": [
    {
     "data": {
      "text/plain": [
       "array([0, 0, 0, ..., 1, 1, 1])"
      ]
     },
     "execution_count": 45,
     "metadata": {},
     "output_type": "execute_result"
    }
   ],
   "source": [
    "type_label"
   ]
  },
  {
   "cell_type": "code",
   "execution_count": 46,
   "metadata": {},
   "outputs": [
    {
     "data": {
      "text/plain": [
       "(621,)"
      ]
     },
     "execution_count": 46,
     "metadata": {},
     "output_type": "execute_result"
    }
   ],
   "source": [
    "#  Split the data into train and test set\n",
    "X_train, X_test, y_train, y_test = train_test_split(X, type_label, test_size = 0.2, random_state = 0)\n",
    "y_test.shape"
   ]
  },
  {
   "cell_type": "markdown",
   "metadata": {},
   "source": [
    "## Prediction and Evaluation:"
   ]
  },
  {
   "cell_type": "code",
   "execution_count": 47,
   "metadata": {},
   "outputs": [
    {
     "data": {
      "text/plain": [
       "array([[ 24.  ,   0.9 ,   1.7 ,  86.  ,   0.93,  92.  ],\n",
       "       [ 76.  ,   3.2 ,   0.8 , 101.  ,   0.99, 103.  ],\n",
       "       [ 72.  ,   1.3 ,   1.5 ,  58.  ,   0.53, 109.  ],\n",
       "       ...,\n",
       "       [ 60.  ,   4.  ,   1.9 ,  78.  ,   0.91,  86.  ],\n",
       "       [ 44.  ,   0.3 ,   1.5 ,  94.  ,   1.07,  88.  ],\n",
       "       [ 32.  ,   0.  ,   2.3 , 117.  ,   0.92, 127.  ]])"
      ]
     },
     "execution_count": 47,
     "metadata": {},
     "output_type": "execute_result"
    }
   ],
   "source": [
    "X_test"
   ]
  },
  {
   "cell_type": "code",
   "execution_count": 48,
   "metadata": {},
   "outputs": [
    {
     "data": {
      "text/plain": [
       "array([1, 1, 1, 1, 1, 1, 1, 1, 1, 1, 1, 1, 1, 1, 1, 1, 1, 1, 0, 1, 1, 1,\n",
       "       1, 1, 1, 1, 1, 1, 1, 1, 1, 1, 1, 1, 1, 1, 1, 1, 1, 1, 1, 1, 1, 1,\n",
       "       1, 1, 1, 1, 1, 1, 1, 1, 1, 1, 1, 1, 1, 1, 1, 1, 1, 1, 1, 1, 1, 1,\n",
       "       1, 1, 1, 1, 1, 1, 1, 1, 1, 1, 1, 1, 1, 1, 0, 1, 1, 1, 1, 1, 1, 1,\n",
       "       1, 1, 1, 1, 1, 1, 1, 1, 1, 1, 1, 1, 1, 1, 1, 1, 0, 1, 1, 1, 1, 0,\n",
       "       1, 1, 1, 1, 1, 1, 1, 1, 1, 1, 1, 1, 1, 1, 0, 1, 1, 1, 1, 1, 1, 1,\n",
       "       1, 1, 1, 1, 1, 1, 1, 1, 1, 1, 1, 1, 1, 1, 1, 1, 1, 1, 1, 1, 1, 1,\n",
       "       1, 1, 1, 0, 1, 1, 1, 1, 1, 1, 1, 1, 1, 1, 1, 1, 1, 1, 1, 0, 1, 1,\n",
       "       1, 1, 0, 1, 1, 1, 1, 1, 1, 1, 1, 1, 1, 1, 1, 1, 1, 1, 1, 1, 1, 1,\n",
       "       1, 1, 1, 1, 1, 1, 1, 1, 1, 1, 1, 1, 0, 1, 1, 1, 1, 1, 1, 1, 1, 1,\n",
       "       0, 1, 1, 1, 1, 1, 0, 1, 1, 1, 1, 1, 1, 1, 1, 1, 1, 1, 1, 1, 1, 1,\n",
       "       1, 0, 1, 1, 1, 1, 1, 1, 1, 1, 1, 1, 1, 1, 1, 1, 1, 1, 1, 1, 1, 1,\n",
       "       1, 1, 0, 1, 1, 1, 1, 1, 1, 1, 0, 1, 1, 1, 1, 1, 1, 1, 1, 1, 1, 1,\n",
       "       1, 1, 1, 1, 1, 1, 1, 1, 1, 1, 1, 1, 1, 1, 1, 1, 1, 1, 1, 1, 1, 1,\n",
       "       1, 1, 1, 1, 1, 1, 1, 1, 1, 1, 1, 1, 1, 1, 1, 1, 1, 1, 1, 1, 1, 1,\n",
       "       1, 1, 1, 0, 1, 0, 1, 1, 1, 1, 1, 1, 1, 1, 1, 1, 1, 1, 1, 1, 1, 1,\n",
       "       1, 1, 1, 1, 1, 1, 1, 1, 1, 1, 1, 1, 1, 1, 1, 1, 1, 1, 1, 1, 1, 1,\n",
       "       1, 1, 0, 1, 1, 1, 1, 1, 1, 1, 1, 1, 1, 1, 1, 1, 1, 1, 1, 1, 1, 1,\n",
       "       1, 1, 1, 1, 1, 1, 1, 1, 1, 1, 1, 1, 1, 1, 1, 1, 1, 0, 1, 1, 1, 1,\n",
       "       1, 1, 1, 1, 1, 1, 1, 1, 1, 1, 1, 1, 1, 1, 1, 1, 1, 1, 1, 1, 1, 1,\n",
       "       1, 1, 1, 1, 1, 1, 1, 1, 1, 1, 1, 1, 1, 1, 1, 1, 1, 1, 1, 1, 1, 1,\n",
       "       1, 1, 1, 1, 1, 1, 1, 1, 1, 1, 1, 1, 1, 1, 1, 1, 1, 1, 1, 1, 1, 1,\n",
       "       1, 1, 1, 1, 1, 1, 1, 1, 1, 1, 1, 1, 1, 1, 1, 1, 1, 1, 1, 1, 1, 1,\n",
       "       1, 1, 1, 1, 1, 1, 1, 1, 1, 1, 1, 1, 1, 1, 1, 1, 1, 1, 1, 1, 1, 1,\n",
       "       1, 1, 1, 1, 1, 1, 1, 1, 1, 1, 1, 1, 1, 1, 1, 0, 1, 1, 0, 1, 1, 1,\n",
       "       1, 1, 1, 1, 1, 1, 1, 1, 1, 1, 1, 1, 0, 1, 1, 1, 1, 1, 1, 1, 1, 1,\n",
       "       1, 1, 1, 1, 1, 1, 1, 1, 1, 1, 1, 1, 1, 1, 1, 1, 1, 1, 1, 1, 1, 1,\n",
       "       1, 0, 1, 1, 1, 1, 1, 1, 1, 1, 1, 1, 1, 1, 1, 1, 1, 1, 1, 1, 1, 1,\n",
       "       1, 1, 1, 1, 1])"
      ]
     },
     "execution_count": 48,
     "metadata": {},
     "output_type": "execute_result"
    }
   ],
   "source": [
    "# Let's now build the svm model \n",
    "hypothyroid_model = SVC(kernel = 'linear')\n",
    "# Train the model using the training set\n",
    "hypothyroid_model.fit(X_train,y_train)\n",
    "\n",
    "# Predict the response for the test set\n",
    "y_pred = hypothyroid_model.predict(X_test)\n",
    "y_pred"
   ]
  },
  {
   "cell_type": "markdown",
   "metadata": {},
   "source": [
    "# Perfomance and Evaluation:\n"
   ]
  },
  {
   "cell_type": "code",
   "execution_count": 49,
   "metadata": {},
   "outputs": [
    {
     "name": "stdout",
     "output_type": "stream",
     "text": [
      "{'Model Accuracy': 0.9855072463768116}\n"
     ]
    },
    {
     "data": {
      "text/plain": [
       "array([[ 19,   6],\n",
       "       [  3, 593]])"
      ]
     },
     "execution_count": 49,
     "metadata": {},
     "output_type": "execute_result"
    }
   ],
   "source": [
    "# Now that we have trained our model, let's test how well it can predict the hypothyroid of a patient\n",
    "\n",
    "# Checking the accurancy of the model\n",
    "model_accuracy = accuracy_score(y_test,y_pred)\n",
    "\n",
    "print({\n",
    "    \"Model Accuracy\": model_accuracy\n",
    "})\n",
    "\n",
    "# We've gotten a classification rate of 98.5%. This is a pretty good accuracy score \n",
    "\n",
    "# For further evaluation you can also check the confusion matrix\n",
    "confusion_matrix = confusion_matrix(y_test, y_pred)\n",
    "confusion_matrix"
   ]
  },
  {
   "cell_type": "markdown",
   "metadata": {},
   "source": [
    "## Deployment"
   ]
  },
  {
   "cell_type": "code",
   "execution_count": 50,
   "metadata": {},
   "outputs": [],
   "source": [
    "import pickle"
   ]
  },
  {
   "cell_type": "code",
   "execution_count": 51,
   "metadata": {},
   "outputs": [],
   "source": [
    "pickle.dump(hypothyroid_model, open(\"hypothyroid_model.pkl\",\"wb\"))"
   ]
  },
  {
   "cell_type": "code",
   "execution_count": 53,
   "metadata": {},
   "outputs": [],
   "source": [
    "# if you want to test the model\n",
    "\n",
    "h_model = pickle.load(open('hypothyroid_model.pkl','rb'))"
   ]
  },
  {
   "cell_type": "code",
   "execution_count": 59,
   "metadata": {},
   "outputs": [],
   "source": [
    "test = [75,   1.9 ,   1.7 ,  45  ,   1.3,  92]"
   ]
  },
  {
   "cell_type": "code",
   "execution_count": 60,
   "metadata": {},
   "outputs": [],
   "source": [
    "final_features = [np.array(test)]\n",
    "\n",
    "prediction = h_model.predict(final_features)"
   ]
  },
  {
   "cell_type": "code",
   "execution_count": 61,
   "metadata": {},
   "outputs": [
    {
     "data": {
      "text/plain": [
       "array([1])"
      ]
     },
     "execution_count": 61,
     "metadata": {},
     "output_type": "execute_result"
    }
   ],
   "source": [
    "prediction"
   ]
  },
  {
   "cell_type": "code",
   "execution_count": 62,
   "metadata": {},
   "outputs": [
    {
     "name": "stdout",
     "output_type": "stream",
     "text": [
      "NO hypothyroid predicted\n"
     ]
    }
   ],
   "source": [
    "if prediction == 1:\n",
    "    print(\"NO hypothyroid predicted\")"
   ]
  }
 ],
 "metadata": {
  "interpreter": {
   "hash": "d1c975b03f3d8290ccd7eeea7ddb502698d10bae6831371ece436324a4da4bf1"
  },
  "kernelspec": {
   "display_name": "Python 3.6.13 64-bit ('ds_ml_env': conda)",
   "name": "python3"
  },
  "language_info": {
   "codemirror_mode": {
    "name": "ipython",
    "version": 3
   },
   "file_extension": ".py",
   "mimetype": "text/x-python",
   "name": "python",
   "nbconvert_exporter": "python",
   "pygments_lexer": "ipython3",
   "version": "3.6.13"
  },
  "orig_nbformat": 4
 },
 "nbformat": 4,
 "nbformat_minor": 2
}
